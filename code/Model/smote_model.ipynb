{
 "cells": [
  {
   "cell_type": "code",
   "execution_count": 1,
   "metadata": {},
   "outputs": [],
   "source": [
    "import pandas as pd\n",
    "import seaborn as sns\n",
    "import matplotlib.pyplot as plt\n",
    "import numpy as np\n"
   ]
  },
  {
   "cell_type": "code",
   "execution_count": 2,
   "metadata": {},
   "outputs": [],
   "source": [
    "df= pd.read_csv(r'..\\..\\data\\Cleaned_data\\Updated_ele_deaths.csv')"
   ]
  },
  {
   "cell_type": "code",
   "execution_count": 3,
   "metadata": {},
   "outputs": [
    {
     "data": {
      "text/html": [
       "<div>\n",
       "<style scoped>\n",
       "    .dataframe tbody tr th:only-of-type {\n",
       "        vertical-align: middle;\n",
       "    }\n",
       "\n",
       "    .dataframe tbody tr th {\n",
       "        vertical-align: top;\n",
       "    }\n",
       "\n",
       "    .dataframe thead th {\n",
       "        text-align: right;\n",
       "    }\n",
       "</style>\n",
       "<table border=\"1\" class=\"dataframe\">\n",
       "  <thead>\n",
       "    <tr style=\"text-align: right;\">\n",
       "      <th></th>\n",
       "      <th>No</th>\n",
       "      <th>Region</th>\n",
       "      <th>District</th>\n",
       "      <th>D/S Office</th>\n",
       "      <th>Date of Death</th>\n",
       "      <th>Cause of Death</th>\n",
       "      <th>Sex</th>\n",
       "      <th>Age</th>\n",
       "      <th>Age Category</th>\n",
       "      <th>Main_Cause</th>\n",
       "    </tr>\n",
       "  </thead>\n",
       "  <tbody>\n",
       "    <tr>\n",
       "      <th>0</th>\n",
       "      <td>1</td>\n",
       "      <td>Southern</td>\n",
       "      <td>Monaragala</td>\n",
       "      <td>Katharagama</td>\n",
       "      <td>2010-01-01</td>\n",
       "      <td>Body destroyed</td>\n",
       "      <td>Male</td>\n",
       "      <td>50-55</td>\n",
       "      <td>Subadults and adults</td>\n",
       "      <td>Unknown</td>\n",
       "    </tr>\n",
       "    <tr>\n",
       "      <th>1</th>\n",
       "      <td>2</td>\n",
       "      <td>Southern</td>\n",
       "      <td>Monaragala</td>\n",
       "      <td>Thanamalvila</td>\n",
       "      <td>2010-01-07</td>\n",
       "      <td>Unknown</td>\n",
       "      <td>Male</td>\n",
       "      <td>20</td>\n",
       "      <td>Subadults and adults</td>\n",
       "      <td>Unknown</td>\n",
       "    </tr>\n",
       "    <tr>\n",
       "      <th>2</th>\n",
       "      <td>3</td>\n",
       "      <td>North Western</td>\n",
       "      <td>Anuradhapura</td>\n",
       "      <td>Unknown</td>\n",
       "      <td>2010-01-08</td>\n",
       "      <td>Electrocuted</td>\n",
       "      <td>Male</td>\n",
       "      <td>30-35</td>\n",
       "      <td>Subadults and adults</td>\n",
       "      <td>Unintentional</td>\n",
       "    </tr>\n",
       "    <tr>\n",
       "      <th>3</th>\n",
       "      <td>4</td>\n",
       "      <td>Eastern</td>\n",
       "      <td>Ampara</td>\n",
       "      <td>Thirukkovil</td>\n",
       "      <td>2010-01-12</td>\n",
       "      <td>Gunshot</td>\n",
       "      <td>Female</td>\n",
       "      <td>15-20</td>\n",
       "      <td>Subadults and adults</td>\n",
       "      <td>Intentional</td>\n",
       "    </tr>\n",
       "    <tr>\n",
       "      <th>4</th>\n",
       "      <td>5</td>\n",
       "      <td>North Western</td>\n",
       "      <td>Kurunegala</td>\n",
       "      <td>Ipalogama</td>\n",
       "      <td>2010-01-15</td>\n",
       "      <td>Accident</td>\n",
       "      <td>Male</td>\n",
       "      <td>5</td>\n",
       "      <td>Juvenile</td>\n",
       "      <td>Unintentional</td>\n",
       "    </tr>\n",
       "  </tbody>\n",
       "</table>\n",
       "</div>"
      ],
      "text/plain": [
       "   No         Region      District    D/S Office Date of Death  \\\n",
       "0   1       Southern    Monaragala   Katharagama    2010-01-01   \n",
       "1   2       Southern    Monaragala  Thanamalvila    2010-01-07   \n",
       "2   3  North Western  Anuradhapura       Unknown    2010-01-08   \n",
       "3   4        Eastern        Ampara   Thirukkovil    2010-01-12   \n",
       "4   5  North Western    Kurunegala     Ipalogama    2010-01-15   \n",
       "\n",
       "   Cause of Death     Sex    Age          Age Category     Main_Cause  \n",
       "0  Body destroyed    Male  50-55  Subadults and adults        Unknown  \n",
       "1         Unknown    Male     20  Subadults and adults        Unknown  \n",
       "2    Electrocuted    Male  30-35  Subadults and adults  Unintentional  \n",
       "3         Gunshot  Female  15-20  Subadults and adults    Intentional  \n",
       "4        Accident    Male      5              Juvenile  Unintentional  "
      ]
     },
     "execution_count": 3,
     "metadata": {},
     "output_type": "execute_result"
    }
   ],
   "source": [
    "df.head()"
   ]
  },
  {
   "cell_type": "code",
   "execution_count": 4,
   "metadata": {},
   "outputs": [],
   "source": [
    "df['Date of Death'] = pd.to_datetime(df['Date of Death'])\n",
    "df['Month'] = df['Date of Death'].dt.month_name()"
   ]
  },
  {
   "cell_type": "code",
   "execution_count": 5,
   "metadata": {},
   "outputs": [
    {
     "data": {
      "text/html": [
       "<div>\n",
       "<style scoped>\n",
       "    .dataframe tbody tr th:only-of-type {\n",
       "        vertical-align: middle;\n",
       "    }\n",
       "\n",
       "    .dataframe tbody tr th {\n",
       "        vertical-align: top;\n",
       "    }\n",
       "\n",
       "    .dataframe thead th {\n",
       "        text-align: right;\n",
       "    }\n",
       "</style>\n",
       "<table border=\"1\" class=\"dataframe\">\n",
       "  <thead>\n",
       "    <tr style=\"text-align: right;\">\n",
       "      <th></th>\n",
       "      <th>No</th>\n",
       "      <th>Region</th>\n",
       "      <th>District</th>\n",
       "      <th>D/S Office</th>\n",
       "      <th>Date of Death</th>\n",
       "      <th>Cause of Death</th>\n",
       "      <th>Sex</th>\n",
       "      <th>Age</th>\n",
       "      <th>Age Category</th>\n",
       "      <th>Main_Cause</th>\n",
       "      <th>Month</th>\n",
       "    </tr>\n",
       "  </thead>\n",
       "  <tbody>\n",
       "    <tr>\n",
       "      <th>0</th>\n",
       "      <td>1</td>\n",
       "      <td>Southern</td>\n",
       "      <td>Monaragala</td>\n",
       "      <td>Katharagama</td>\n",
       "      <td>2010-01-01</td>\n",
       "      <td>Body destroyed</td>\n",
       "      <td>Male</td>\n",
       "      <td>50-55</td>\n",
       "      <td>Subadults and adults</td>\n",
       "      <td>Unknown</td>\n",
       "      <td>January</td>\n",
       "    </tr>\n",
       "    <tr>\n",
       "      <th>1</th>\n",
       "      <td>2</td>\n",
       "      <td>Southern</td>\n",
       "      <td>Monaragala</td>\n",
       "      <td>Thanamalvila</td>\n",
       "      <td>2010-01-07</td>\n",
       "      <td>Unknown</td>\n",
       "      <td>Male</td>\n",
       "      <td>20</td>\n",
       "      <td>Subadults and adults</td>\n",
       "      <td>Unknown</td>\n",
       "      <td>January</td>\n",
       "    </tr>\n",
       "    <tr>\n",
       "      <th>2</th>\n",
       "      <td>3</td>\n",
       "      <td>North Western</td>\n",
       "      <td>Anuradhapura</td>\n",
       "      <td>Unknown</td>\n",
       "      <td>2010-01-08</td>\n",
       "      <td>Electrocuted</td>\n",
       "      <td>Male</td>\n",
       "      <td>30-35</td>\n",
       "      <td>Subadults and adults</td>\n",
       "      <td>Unintentional</td>\n",
       "      <td>January</td>\n",
       "    </tr>\n",
       "    <tr>\n",
       "      <th>3</th>\n",
       "      <td>4</td>\n",
       "      <td>Eastern</td>\n",
       "      <td>Ampara</td>\n",
       "      <td>Thirukkovil</td>\n",
       "      <td>2010-01-12</td>\n",
       "      <td>Gunshot</td>\n",
       "      <td>Female</td>\n",
       "      <td>15-20</td>\n",
       "      <td>Subadults and adults</td>\n",
       "      <td>Intentional</td>\n",
       "      <td>January</td>\n",
       "    </tr>\n",
       "    <tr>\n",
       "      <th>4</th>\n",
       "      <td>5</td>\n",
       "      <td>North Western</td>\n",
       "      <td>Kurunegala</td>\n",
       "      <td>Ipalogama</td>\n",
       "      <td>2010-01-15</td>\n",
       "      <td>Accident</td>\n",
       "      <td>Male</td>\n",
       "      <td>5</td>\n",
       "      <td>Juvenile</td>\n",
       "      <td>Unintentional</td>\n",
       "      <td>January</td>\n",
       "    </tr>\n",
       "  </tbody>\n",
       "</table>\n",
       "</div>"
      ],
      "text/plain": [
       "   No         Region      District    D/S Office Date of Death  \\\n",
       "0   1       Southern    Monaragala   Katharagama    2010-01-01   \n",
       "1   2       Southern    Monaragala  Thanamalvila    2010-01-07   \n",
       "2   3  North Western  Anuradhapura       Unknown    2010-01-08   \n",
       "3   4        Eastern        Ampara   Thirukkovil    2010-01-12   \n",
       "4   5  North Western    Kurunegala     Ipalogama    2010-01-15   \n",
       "\n",
       "   Cause of Death     Sex    Age          Age Category     Main_Cause    Month  \n",
       "0  Body destroyed    Male  50-55  Subadults and adults        Unknown  January  \n",
       "1         Unknown    Male     20  Subadults and adults        Unknown  January  \n",
       "2    Electrocuted    Male  30-35  Subadults and adults  Unintentional  January  \n",
       "3         Gunshot  Female  15-20  Subadults and adults    Intentional  January  \n",
       "4        Accident    Male      5              Juvenile  Unintentional  January  "
      ]
     },
     "execution_count": 5,
     "metadata": {},
     "output_type": "execute_result"
    }
   ],
   "source": [
    "df.head()"
   ]
  },
  {
   "cell_type": "code",
   "execution_count": 6,
   "metadata": {},
   "outputs": [
    {
     "data": {
      "text/plain": [
       "<Axes: xlabel='Main_Cause', ylabel='count'>"
      ]
     },
     "execution_count": 6,
     "metadata": {},
     "output_type": "execute_result"
    },
    {
     "data": {
      "image/png": "[encoded data removed]",
      "text/plain": [
       "<Figure size 1600x1200 with 1 Axes>"
      ]
     },
     "metadata": {},
     "output_type": "display_data"
    }
   ],
   "source": [
    "plt.figure(figsize=(16, 12))\n",
    "plt.xticks(rotation=45) \n",
    "sns.countplot(df,x='Main_Cause')\n",
    "\n"
   ]
  },
  {
   "cell_type": "code",
   "execution_count": 7,
   "metadata": {},
   "outputs": [
    {
     "data": {
      "text/plain": [
       "\"# Create a mapping of causes to common categories\\ncause_mapping = {\\n    'Unknown': 'Unknown',\\n    'Gunshot': 'Human-Induced',\\n    'Hakkapatas': 'Human-Induced',\\n    'Electrocuted': 'Human-Induced',\\n    'Natural': 'Natural',\\n    'Accident': 'Accident',\\n    'Train Accident': 'Accident',\\n    'Poisned': 'Human-Induced',\\n    'Other': 'Other',\\n    'Injured': 'Other',\\n    'Body destroyed': 'Unknown',\\n    'Disease': 'Environmental',\\n    'Fallen into well': 'Environmental',\\n    'Septicemia': 'Environmental',\\n    'Land mine': 'Human-Induced',\\n    'Attack by an elephant': 'Environmental',\\n    'Flood': 'Environmental',\\n    'Drowned': 'Environmental',\\n    'Eaten polythene': 'Other',\\n    'Lightning': 'Environmental',\\n    'Broken the Spinal': 'Other',\\n    'At born': 'Natural',\\n    'Falling of a mountain': 'Environmental',\\n    'Garbage consumption': 'Other',\\n    'Liver floot': 'Environmental',\\n    'Severe hemorrhage': 'Other',\\n    'Nivukeniya': 'Environmental',\\n    'Drought': 'Environmental'\\n}\\n\\n# Load the dataset\\n# (Assuming you already have this loaded)\\n\\n# Apply the mapping to create a new 'Common Cause' column\\ndf['Common Cause'] = df['Cause of Death'].map(cause_mapping)\""
      ]
     },
     "execution_count": 7,
     "metadata": {},
     "output_type": "execute_result"
    }
   ],
   "source": [
    "'''# Create a mapping of causes to common categories\n",
    "cause_mapping = {\n",
    "    'Unknown': 'Unknown',\n",
    "    'Gunshot': 'Human-Induced',\n",
    "    'Hakkapatas': 'Human-Induced',\n",
    "    'Electrocuted': 'Human-Induced',\n",
    "    'Natural': 'Natural',\n",
    "    'Accident': 'Accident',\n",
    "    'Train Accident': 'Accident',\n",
    "    'Poisned': 'Human-Induced',\n",
    "    'Other': 'Other',\n",
    "    'Injured': 'Other',\n",
    "    'Body destroyed': 'Unknown',\n",
    "    'Disease': 'Environmental',\n",
    "    'Fallen into well': 'Environmental',\n",
    "    'Septicemia': 'Environmental',\n",
    "    'Land mine': 'Human-Induced',\n",
    "    'Attack by an elephant': 'Environmental',\n",
    "    'Flood': 'Environmental',\n",
    "    'Drowned': 'Environmental',\n",
    "    'Eaten polythene': 'Other',\n",
    "    'Lightning': 'Environmental',\n",
    "    'Broken the Spinal': 'Other',\n",
    "    'At born': 'Natural',\n",
    "    'Falling of a mountain': 'Environmental',\n",
    "    'Garbage consumption': 'Other',\n",
    "    'Liver floot': 'Environmental',\n",
    "    'Severe hemorrhage': 'Other',\n",
    "    'Nivukeniya': 'Environmental',\n",
    "    'Drought': 'Environmental'\n",
    "}\n",
    "\n",
    "# Load the dataset\n",
    "# (Assuming you already have this loaded)\n",
    "\n",
    "# Apply the mapping to create a new 'Common Cause' column\n",
    "df['Common Cause'] = df['Cause of Death'].map(cause_mapping)'''"
   ]
  },
  {
   "cell_type": "code",
   "execution_count": 8,
   "metadata": {},
   "outputs": [],
   "source": [
    "\n",
    "df=df[df['Main_Cause']!='Unknown']\n"
   ]
  },
  {
   "cell_type": "code",
   "execution_count": 9,
   "metadata": {},
   "outputs": [
    {
     "data": {
      "text/plain": [
       "<Axes: xlabel='Main_Cause', ylabel='count'>"
      ]
     },
     "execution_count": 9,
     "metadata": {},
     "output_type": "execute_result"
    },
    {
     "data": {
      "image/png": "[encoded data removed]",
      "text/plain": [
       "<Figure size 1600x1200 with 1 Axes>"
      ]
     },
     "metadata": {},
     "output_type": "display_data"
    }
   ],
   "source": [
    "plt.figure(figsize=(16, 12))\n",
    "plt.xticks(rotation=45) \n",
    "sns.countplot(df,x='Main_Cause')"
   ]
  },
  {
   "cell_type": "code",
   "execution_count": 10,
   "metadata": {},
   "outputs": [],
   "source": [
    "selected_variables = df[['Main_Cause', 'District', 'Sex',\"Age Category\",\"Month\"]]\n",
    "selected_variables = pd.get_dummies(selected_variables, columns=[ 'District', 'Sex','Age Category','Month'],dtype=int)"
   ]
  },
  {
   "cell_type": "code",
   "execution_count": 11,
   "metadata": {},
   "outputs": [
    {
     "data": {
      "text/html": [
       "<div>\n",
       "<style scoped>\n",
       "    .dataframe tbody tr th:only-of-type {\n",
       "        vertical-align: middle;\n",
       "    }\n",
       "\n",
       "    .dataframe tbody tr th {\n",
       "        vertical-align: top;\n",
       "    }\n",
       "\n",
       "    .dataframe thead th {\n",
       "        text-align: right;\n",
       "    }\n",
       "</style>\n",
       "<table border=\"1\" class=\"dataframe\">\n",
       "  <thead>\n",
       "    <tr style=\"text-align: right;\">\n",
       "      <th></th>\n",
       "      <th>Main_Cause</th>\n",
       "      <th>District_Ampara</th>\n",
       "      <th>District_Anuradhapura</th>\n",
       "      <th>District_Badulla</th>\n",
       "      <th>District_Batticaloa</th>\n",
       "      <th>District_Hambantota</th>\n",
       "      <th>District_Kandy</th>\n",
       "      <th>District_Kilinochchi</th>\n",
       "      <th>District_Kurunegala</th>\n",
       "      <th>District_Mannar</th>\n",
       "      <th>...</th>\n",
       "      <th>Month_December</th>\n",
       "      <th>Month_February</th>\n",
       "      <th>Month_January</th>\n",
       "      <th>Month_July</th>\n",
       "      <th>Month_June</th>\n",
       "      <th>Month_March</th>\n",
       "      <th>Month_May</th>\n",
       "      <th>Month_November</th>\n",
       "      <th>Month_October</th>\n",
       "      <th>Month_September</th>\n",
       "    </tr>\n",
       "  </thead>\n",
       "  <tbody>\n",
       "    <tr>\n",
       "      <th>2</th>\n",
       "      <td>Unintentional</td>\n",
       "      <td>0</td>\n",
       "      <td>1</td>\n",
       "      <td>0</td>\n",
       "      <td>0</td>\n",
       "      <td>0</td>\n",
       "      <td>0</td>\n",
       "      <td>0</td>\n",
       "      <td>0</td>\n",
       "      <td>0</td>\n",
       "      <td>...</td>\n",
       "      <td>0</td>\n",
       "      <td>0</td>\n",
       "      <td>1</td>\n",
       "      <td>0</td>\n",
       "      <td>0</td>\n",
       "      <td>0</td>\n",
       "      <td>0</td>\n",
       "      <td>0</td>\n",
       "      <td>0</td>\n",
       "      <td>0</td>\n",
       "    </tr>\n",
       "    <tr>\n",
       "      <th>3</th>\n",
       "      <td>Intentional</td>\n",
       "      <td>1</td>\n",
       "      <td>0</td>\n",
       "      <td>0</td>\n",
       "      <td>0</td>\n",
       "      <td>0</td>\n",
       "      <td>0</td>\n",
       "      <td>0</td>\n",
       "      <td>0</td>\n",
       "      <td>0</td>\n",
       "      <td>...</td>\n",
       "      <td>0</td>\n",
       "      <td>0</td>\n",
       "      <td>1</td>\n",
       "      <td>0</td>\n",
       "      <td>0</td>\n",
       "      <td>0</td>\n",
       "      <td>0</td>\n",
       "      <td>0</td>\n",
       "      <td>0</td>\n",
       "      <td>0</td>\n",
       "    </tr>\n",
       "    <tr>\n",
       "      <th>4</th>\n",
       "      <td>Unintentional</td>\n",
       "      <td>0</td>\n",
       "      <td>0</td>\n",
       "      <td>0</td>\n",
       "      <td>0</td>\n",
       "      <td>0</td>\n",
       "      <td>0</td>\n",
       "      <td>0</td>\n",
       "      <td>1</td>\n",
       "      <td>0</td>\n",
       "      <td>...</td>\n",
       "      <td>0</td>\n",
       "      <td>0</td>\n",
       "      <td>1</td>\n",
       "      <td>0</td>\n",
       "      <td>0</td>\n",
       "      <td>0</td>\n",
       "      <td>0</td>\n",
       "      <td>0</td>\n",
       "      <td>0</td>\n",
       "      <td>0</td>\n",
       "    </tr>\n",
       "    <tr>\n",
       "      <th>5</th>\n",
       "      <td>Intentional</td>\n",
       "      <td>0</td>\n",
       "      <td>0</td>\n",
       "      <td>0</td>\n",
       "      <td>0</td>\n",
       "      <td>0</td>\n",
       "      <td>0</td>\n",
       "      <td>0</td>\n",
       "      <td>1</td>\n",
       "      <td>0</td>\n",
       "      <td>...</td>\n",
       "      <td>0</td>\n",
       "      <td>0</td>\n",
       "      <td>1</td>\n",
       "      <td>0</td>\n",
       "      <td>0</td>\n",
       "      <td>0</td>\n",
       "      <td>0</td>\n",
       "      <td>0</td>\n",
       "      <td>0</td>\n",
       "      <td>0</td>\n",
       "    </tr>\n",
       "    <tr>\n",
       "      <th>7</th>\n",
       "      <td>Intentional</td>\n",
       "      <td>0</td>\n",
       "      <td>0</td>\n",
       "      <td>0</td>\n",
       "      <td>0</td>\n",
       "      <td>0</td>\n",
       "      <td>0</td>\n",
       "      <td>0</td>\n",
       "      <td>0</td>\n",
       "      <td>0</td>\n",
       "      <td>...</td>\n",
       "      <td>0</td>\n",
       "      <td>0</td>\n",
       "      <td>1</td>\n",
       "      <td>0</td>\n",
       "      <td>0</td>\n",
       "      <td>0</td>\n",
       "      <td>0</td>\n",
       "      <td>0</td>\n",
       "      <td>0</td>\n",
       "      <td>0</td>\n",
       "    </tr>\n",
       "    <tr>\n",
       "      <th>...</th>\n",
       "      <td>...</td>\n",
       "      <td>...</td>\n",
       "      <td>...</td>\n",
       "      <td>...</td>\n",
       "      <td>...</td>\n",
       "      <td>...</td>\n",
       "      <td>...</td>\n",
       "      <td>...</td>\n",
       "      <td>...</td>\n",
       "      <td>...</td>\n",
       "      <td>...</td>\n",
       "      <td>...</td>\n",
       "      <td>...</td>\n",
       "      <td>...</td>\n",
       "      <td>...</td>\n",
       "      <td>...</td>\n",
       "      <td>...</td>\n",
       "      <td>...</td>\n",
       "      <td>...</td>\n",
       "      <td>...</td>\n",
       "      <td>...</td>\n",
       "    </tr>\n",
       "    <tr>\n",
       "      <th>1887</th>\n",
       "      <td>Intentional</td>\n",
       "      <td>0</td>\n",
       "      <td>0</td>\n",
       "      <td>0</td>\n",
       "      <td>0</td>\n",
       "      <td>0</td>\n",
       "      <td>0</td>\n",
       "      <td>0</td>\n",
       "      <td>1</td>\n",
       "      <td>0</td>\n",
       "      <td>...</td>\n",
       "      <td>1</td>\n",
       "      <td>0</td>\n",
       "      <td>0</td>\n",
       "      <td>0</td>\n",
       "      <td>0</td>\n",
       "      <td>0</td>\n",
       "      <td>0</td>\n",
       "      <td>0</td>\n",
       "      <td>0</td>\n",
       "      <td>0</td>\n",
       "    </tr>\n",
       "    <tr>\n",
       "      <th>1888</th>\n",
       "      <td>Unintentional</td>\n",
       "      <td>1</td>\n",
       "      <td>0</td>\n",
       "      <td>0</td>\n",
       "      <td>0</td>\n",
       "      <td>0</td>\n",
       "      <td>0</td>\n",
       "      <td>0</td>\n",
       "      <td>0</td>\n",
       "      <td>0</td>\n",
       "      <td>...</td>\n",
       "      <td>1</td>\n",
       "      <td>0</td>\n",
       "      <td>0</td>\n",
       "      <td>0</td>\n",
       "      <td>0</td>\n",
       "      <td>0</td>\n",
       "      <td>0</td>\n",
       "      <td>0</td>\n",
       "      <td>0</td>\n",
       "      <td>0</td>\n",
       "    </tr>\n",
       "    <tr>\n",
       "      <th>1889</th>\n",
       "      <td>Natural</td>\n",
       "      <td>0</td>\n",
       "      <td>0</td>\n",
       "      <td>0</td>\n",
       "      <td>0</td>\n",
       "      <td>0</td>\n",
       "      <td>0</td>\n",
       "      <td>0</td>\n",
       "      <td>0</td>\n",
       "      <td>0</td>\n",
       "      <td>...</td>\n",
       "      <td>1</td>\n",
       "      <td>0</td>\n",
       "      <td>0</td>\n",
       "      <td>0</td>\n",
       "      <td>0</td>\n",
       "      <td>0</td>\n",
       "      <td>0</td>\n",
       "      <td>0</td>\n",
       "      <td>0</td>\n",
       "      <td>0</td>\n",
       "    </tr>\n",
       "    <tr>\n",
       "      <th>1892</th>\n",
       "      <td>Unintentional</td>\n",
       "      <td>0</td>\n",
       "      <td>0</td>\n",
       "      <td>0</td>\n",
       "      <td>0</td>\n",
       "      <td>0</td>\n",
       "      <td>0</td>\n",
       "      <td>0</td>\n",
       "      <td>0</td>\n",
       "      <td>0</td>\n",
       "      <td>...</td>\n",
       "      <td>1</td>\n",
       "      <td>0</td>\n",
       "      <td>0</td>\n",
       "      <td>0</td>\n",
       "      <td>0</td>\n",
       "      <td>0</td>\n",
       "      <td>0</td>\n",
       "      <td>0</td>\n",
       "      <td>0</td>\n",
       "      <td>0</td>\n",
       "    </tr>\n",
       "    <tr>\n",
       "      <th>1893</th>\n",
       "      <td>Intentional</td>\n",
       "      <td>0</td>\n",
       "      <td>0</td>\n",
       "      <td>1</td>\n",
       "      <td>0</td>\n",
       "      <td>0</td>\n",
       "      <td>0</td>\n",
       "      <td>0</td>\n",
       "      <td>0</td>\n",
       "      <td>0</td>\n",
       "      <td>...</td>\n",
       "      <td>1</td>\n",
       "      <td>0</td>\n",
       "      <td>0</td>\n",
       "      <td>0</td>\n",
       "      <td>0</td>\n",
       "      <td>0</td>\n",
       "      <td>0</td>\n",
       "      <td>0</td>\n",
       "      <td>0</td>\n",
       "      <td>0</td>\n",
       "    </tr>\n",
       "  </tbody>\n",
       "</table>\n",
       "<p>1398 rows × 40 columns</p>\n",
       "</div>"
      ],
      "text/plain": [
       "         Main_Cause  District_Ampara  District_Anuradhapura  District_Badulla  \\\n",
       "2     Unintentional                0                      1                 0   \n",
       "3       Intentional                1                      0                 0   \n",
       "4     Unintentional                0                      0                 0   \n",
       "5       Intentional                0                      0                 0   \n",
       "7       Intentional                0                      0                 0   \n",
       "...             ...              ...                    ...               ...   \n",
       "1887    Intentional                0                      0                 0   \n",
       "1888  Unintentional                1                      0                 0   \n",
       "1889        Natural                0                      0                 0   \n",
       "1892  Unintentional                0                      0                 0   \n",
       "1893    Intentional                0                      0                 1   \n",
       "\n",
       "      District_Batticaloa  District_Hambantota  District_Kandy  \\\n",
       "2                       0                    0               0   \n",
       "3                       0                    0               0   \n",
       "4                       0                    0               0   \n",
       "5                       0                    0               0   \n",
       "7                       0                    0               0   \n",
       "...                   ...                  ...             ...   \n",
       "1887                    0                    0               0   \n",
       "1888                    0                    0               0   \n",
       "1889                    0                    0               0   \n",
       "1892                    0                    0               0   \n",
       "1893                    0                    0               0   \n",
       "\n",
       "      District_Kilinochchi  District_Kurunegala  District_Mannar  ...  \\\n",
       "2                        0                    0                0  ...   \n",
       "3                        0                    0                0  ...   \n",
       "4                        0                    1                0  ...   \n",
       "5                        0                    1                0  ...   \n",
       "7                        0                    0                0  ...   \n",
       "...                    ...                  ...              ...  ...   \n",
       "1887                     0                    1                0  ...   \n",
       "1888                     0                    0                0  ...   \n",
       "1889                     0                    0                0  ...   \n",
       "1892                     0                    0                0  ...   \n",
       "1893                     0                    0                0  ...   \n",
       "\n",
       "      Month_December  Month_February  Month_January  Month_July  Month_June  \\\n",
       "2                  0               0              1           0           0   \n",
       "3                  0               0              1           0           0   \n",
       "4                  0               0              1           0           0   \n",
       "5                  0               0              1           0           0   \n",
       "7                  0               0              1           0           0   \n",
       "...              ...             ...            ...         ...         ...   \n",
       "1887               1               0              0           0           0   \n",
       "1888               1               0              0           0           0   \n",
       "1889               1               0              0           0           0   \n",
       "1892               1               0              0           0           0   \n",
       "1893               1               0              0           0           0   \n",
       "\n",
       "      Month_March  Month_May  Month_November  Month_October  Month_September  \n",
       "2               0          0               0              0                0  \n",
       "3               0          0               0              0                0  \n",
       "4               0          0               0              0                0  \n",
       "5               0          0               0              0                0  \n",
       "7               0          0               0              0                0  \n",
       "...           ...        ...             ...            ...              ...  \n",
       "1887            0          0               0              0                0  \n",
       "1888            0          0               0              0                0  \n",
       "1889            0          0               0              0                0  \n",
       "1892            0          0               0              0                0  \n",
       "1893            0          0               0              0                0  \n",
       "\n",
       "[1398 rows x 40 columns]"
      ]
     },
     "execution_count": 11,
     "metadata": {},
     "output_type": "execute_result"
    }
   ],
   "source": [
    "selected_variables"
   ]
  },
  {
   "cell_type": "code",
   "execution_count": 12,
   "metadata": {},
   "outputs": [
    {
     "data": {
      "text/plain": [
       "Index(['Main_Cause', 'District_Ampara', 'District_Anuradhapura',\n",
       "       'District_Badulla', 'District_Batticaloa', 'District_Hambantota',\n",
       "       'District_Kandy', 'District_Kilinochchi', 'District_Kurunegala',\n",
       "       'District_Mannar', 'District_Matale', 'District_Monaragala',\n",
       "       'District_Mullaitivu', 'District_Nuwara Eliya', 'District_Polonnaruwa',\n",
       "       'District_Puttalam', 'District_Ratnapura', 'District_Trincomalee',\n",
       "       'District_Unknown', 'District_Vavuniya', 'Sex_Female', 'Sex_Male',\n",
       "       'Sex_Unknown', 'Age Category_Calf', 'Age Category_Infant',\n",
       "       'Age Category_Juvenile', 'Age Category_Subadults and adults',\n",
       "       'Age Category_Unknown', 'Month_April', 'Month_August', 'Month_December',\n",
       "       'Month_February', 'Month_January', 'Month_July', 'Month_June',\n",
       "       'Month_March', 'Month_May', 'Month_November', 'Month_October',\n",
       "       'Month_September'],\n",
       "      dtype='object')"
      ]
     },
     "execution_count": 12,
     "metadata": {},
     "output_type": "execute_result"
    }
   ],
   "source": [
    "selected_variables.columns"
   ]
  },
  {
   "cell_type": "code",
   "execution_count": 13,
   "metadata": {},
   "outputs": [],
   "source": [
    "columns_to_drop = ['District_Ampara', 'Sex_Unknown','Age Category_Unknown','Month_December']\n",
    "\n",
    "\n",
    "selected_variables.drop(columns=columns_to_drop, inplace=True)"
   ]
  },
  {
   "cell_type": "code",
   "execution_count": 14,
   "metadata": {},
   "outputs": [
    {
     "data": {
      "text/plain": [
       "36"
      ]
     },
     "execution_count": 14,
     "metadata": {},
     "output_type": "execute_result"
    }
   ],
   "source": [
    "selected_variables.columns.size"
   ]
  },
  {
   "cell_type": "code",
   "execution_count": 15,
   "metadata": {},
   "outputs": [],
   "source": [
    "x=selected_variables.drop(['Main_Cause'],axis=1)\n",
    "y=selected_variables['Main_Cause']"
   ]
  },
  {
   "cell_type": "code",
   "execution_count": 16,
   "metadata": {},
   "outputs": [
    {
     "data": {
      "text/plain": [
       "'scaler = StandardScaler()\\nx = pd.DataFrame(scaler.fit_transform(x))'"
      ]
     },
     "execution_count": 16,
     "metadata": {},
     "output_type": "execute_result"
    }
   ],
   "source": [
    "'''from sklearn.preprocessing import StandardScaler\n",
    "scaler = StandardScaler()\n",
    "x = pd.DataFrame(scaler.fit_transform(x))'''\n"
   ]
  },
  {
   "cell_type": "code",
   "execution_count": 17,
   "metadata": {},
   "outputs": [],
   "source": [
    "from imblearn.over_sampling import SMOTE\n",
    "sm=SMOTE(random_state=2)\n",
    "x,y=sm.fit_resample(x,y)"
   ]
  },
  {
   "cell_type": "code",
   "execution_count": 18,
   "metadata": {},
   "outputs": [],
   "source": [
    "from sklearn.model_selection import train_test_split\n",
    "\n",
    "x_train, x_test,y_train, y_test = train_test_split(x,y,test_size=0.2,random_state=1234)"
   ]
  },
  {
   "cell_type": "markdown",
   "metadata": {},
   "source": [
    "## SVM"
   ]
  },
  {
   "cell_type": "code",
   "execution_count": 33,
   "metadata": {},
   "outputs": [],
   "source": [
    "from sklearn.svm import SVC\n",
    "model_svc = SVC()\n",
    "model_svc.fit(x_train,y_train)\n",
    "\n",
    "y_pred= model_svc.predict(x_test)"
   ]
  },
  {
   "cell_type": "code",
   "execution_count": 34,
   "metadata": {},
   "outputs": [
    {
     "name": "stdout",
     "output_type": "stream",
     "text": [
      "0.6507177033492823\n"
     ]
    }
   ],
   "source": [
    "from sklearn.metrics import accuracy_score\n",
    "\n",
    "print(accuracy_score(y_test,y_pred))"
   ]
  },
  {
   "cell_type": "code",
   "execution_count": 39,
   "metadata": {},
   "outputs": [
    {
     "name": "stdout",
     "output_type": "stream",
     "text": [
      "               precision    recall  f1-score   support\n",
      "\n",
      "  Intentional       0.68      0.62      0.65       163\n",
      "      Natural       0.73      0.51      0.60       158\n",
      "        Other       0.64      0.93      0.76       149\n",
      "Unintentional       0.58      0.55      0.57       157\n",
      "\n",
      "     accuracy                           0.65       627\n",
      "    macro avg       0.66      0.65      0.64       627\n",
      " weighted avg       0.66      0.65      0.64       627\n",
      "\n"
     ]
    }
   ],
   "source": [
    "from sklearn.metrics import classification_report\n",
    "\n",
    "print(classification_report(y_test,y_pred,zero_division=0))"
   ]
  },
  {
   "cell_type": "code",
   "execution_count": 40,
   "metadata": {},
   "outputs": [
    {
     "data": {
      "image/png": "[encoded data removed]",
      "text/plain": [
       "<Figure size 640x480 with 2 Axes>"
      ]
     },
     "metadata": {},
     "output_type": "display_data"
    }
   ],
   "source": [
    "from sklearn.metrics import confusion_matrix,ConfusionMatrixDisplay\n",
    "cf_matrix=confusion_matrix(y_test,y_pred)\n",
    "ConfusionMatrixDisplay.from_estimator(model_svc, x_test, y_test)\n",
    "plt.xticks(rotation=45) \n",
    "plt.show()"
   ]
  },
  {
   "cell_type": "markdown",
   "metadata": {},
   "source": [
    "## Decision Tree Clasifier"
   ]
  },
  {
   "cell_type": "code",
   "execution_count": 62,
   "metadata": {},
   "outputs": [],
   "source": [
    "from sklearn.tree import DecisionTreeClassifier\n",
    "model_dt = DecisionTreeClassifier(class_weight='balanced',max_depth=5)\n",
    "model_dt.fit(x_train,y_train)\n",
    "y_pred=model_dt.predict(x_test)"
   ]
  },
  {
   "cell_type": "code",
   "execution_count": 63,
   "metadata": {},
   "outputs": [
    {
     "data": {
      "text/plain": [
       "0.44178628389154706"
      ]
     },
     "execution_count": 63,
     "metadata": {},
     "output_type": "execute_result"
    }
   ],
   "source": [
    "accuracy_score(y_test,y_pred)"
   ]
  },
  {
   "cell_type": "code",
   "execution_count": 64,
   "metadata": {},
   "outputs": [
    {
     "name": "stdout",
     "output_type": "stream",
     "text": [
      "               precision    recall  f1-score   support\n",
      "\n",
      "  Intentional       0.83      0.21      0.34       163\n",
      "      Natural       0.52      0.40      0.45       158\n",
      "        Other       0.46      0.34      0.39       149\n",
      "Unintentional       0.36      0.82      0.50       157\n",
      "\n",
      "     accuracy                           0.44       627\n",
      "    macro avg       0.54      0.44      0.42       627\n",
      " weighted avg       0.55      0.44      0.42       627\n",
      "\n"
     ]
    }
   ],
   "source": [
    "print(classification_report(y_test,y_pred))"
   ]
  },
  {
   "cell_type": "code",
   "execution_count": 65,
   "metadata": {},
   "outputs": [
    {
     "data": {
      "image/png": "[encoded data removed]",
      "text/plain": [
       "<Figure size 640x480 with 2 Axes>"
      ]
     },
     "metadata": {},
     "output_type": "display_data"
    }
   ],
   "source": [
    "cf_matrix=confusion_matrix(y_test,y_pred)\n",
    "ConfusionMatrixDisplay.from_estimator(model_dt, x_test, y_test)\n",
    "plt.xticks(rotation=45) \n",
    "plt.show()"
   ]
  },
  {
   "cell_type": "markdown",
   "metadata": {},
   "source": [
    "## Random Forest Classifier"
   ]
  },
  {
   "cell_type": "code",
   "execution_count": 66,
   "metadata": {},
   "outputs": [],
   "source": [
    "from sklearn.ensemble import RandomForestClassifier\n",
    "model_rf= RandomForestClassifier()\n",
    "model_rf.fit(x_train,y_train)\n",
    "y_pred=model_rf.predict(x_test)"
   ]
  },
  {
   "cell_type": "code",
   "execution_count": 67,
   "metadata": {},
   "outputs": [
    {
     "data": {
      "text/plain": [
       "0.6411483253588517"
      ]
     },
     "execution_count": 67,
     "metadata": {},
     "output_type": "execute_result"
    }
   ],
   "source": [
    "accuracy_score(y_test,y_pred)"
   ]
  },
  {
   "cell_type": "code",
   "execution_count": 68,
   "metadata": {},
   "outputs": [
    {
     "name": "stdout",
     "output_type": "stream",
     "text": [
      "               precision    recall  f1-score   support\n",
      "\n",
      "  Intentional       0.66      0.53      0.59       163\n",
      "      Natural       0.66      0.56      0.61       158\n",
      "        Other       0.68      0.89      0.77       149\n",
      "Unintentional       0.56      0.60      0.58       157\n",
      "\n",
      "     accuracy                           0.64       627\n",
      "    macro avg       0.64      0.65      0.64       627\n",
      " weighted avg       0.64      0.64      0.64       627\n",
      "\n"
     ]
    }
   ],
   "source": [
    "print(classification_report(y_test,y_pred))"
   ]
  },
  {
   "cell_type": "code",
   "execution_count": 69,
   "metadata": {},
   "outputs": [
    {
     "data": {
      "image/png": "[encoded data removed]",
      "text/plain": [
       "<Figure size 640x480 with 2 Axes>"
      ]
     },
     "metadata": {},
     "output_type": "display_data"
    }
   ],
   "source": [
    "cf_matrix=confusion_matrix(y_test,y_pred)\n",
    "ConfusionMatrixDisplay.from_estimator(model_rf, x_test, y_test)\n",
    "plt.xticks(rotation=45) \n",
    "plt.show()"
   ]
  },
  {
   "cell_type": "markdown",
   "metadata": {},
   "source": [
    "## Nueral Network"
   ]
  },
  {
   "cell_type": "code",
   "execution_count": 113,
   "metadata": {},
   "outputs": [
    {
     "data": {
      "text/plain": [
       "\"from tensorflow import keras\\n\\nmodel_ffn = keras.Sequential([\\n    keras.layers.Dense(32, input_dim=25, activation='relu'), \\n    keras.layers.Dense(16, activation='relu'),\\n    keras.layers.Dense(8, activation='relu'), \\n    keras.layers.Dense(4, activation='softmax')\\n])\\nmodel_ffn.compile(loss='categorical_crossentropy', optimizer='adam', metrics=['accuracy'])\\n\""
      ]
     },
     "execution_count": 113,
     "metadata": {},
     "output_type": "execute_result"
    }
   ],
   "source": [
    "'''from tensorflow import keras\n",
    "\n",
    "model_ffn = keras.Sequential([\n",
    "    keras.layers.Dense(32, input_dim=25, activation='relu'), \n",
    "    keras.layers.Dense(16, activation='relu'),\n",
    "    keras.layers.Dense(8, activation='relu'), \n",
    "    keras.layers.Dense(4, activation='softmax')\n",
    "])\n",
    "model_ffn.compile(loss='categorical_crossentropy', optimizer='adam', metrics=['accuracy'])\n",
    "'''"
   ]
  },
  {
   "cell_type": "code",
   "execution_count": 36,
   "metadata": {},
   "outputs": [],
   "source": [
    "'''y_train_enc=pd.get_dummies(y_train,dtype=int)'''"
   ]
  },
  {
   "cell_type": "code",
   "execution_count": 114,
   "metadata": {},
   "outputs": [
    {
     "data": {
      "text/plain": [
       "'history = model_ffn.fit(x_train,y_train_enc,epochs=500,validation_split=0.2)'"
      ]
     },
     "execution_count": 114,
     "metadata": {},
     "output_type": "execute_result"
    }
   ],
   "source": [
    "'''history = model_ffn.fit(x_train,y_train_enc,epochs=500,validation_split=0.2)'''"
   ]
  },
  {
   "cell_type": "code",
   "execution_count": 115,
   "metadata": {},
   "outputs": [
    {
     "data": {
      "text/plain": [
       "\"import matplotlib.pyplot as plt\\n\\nplt.plot(history.history['accuracy'])\\nplt.plot(history.history['val_accuracy'])\""
      ]
     },
     "execution_count": 115,
     "metadata": {},
     "output_type": "execute_result"
    }
   ],
   "source": [
    "'''import matplotlib.pyplot as plt\n",
    "\n",
    "plt.plot(history.history['accuracy'])\n",
    "plt.plot(history.history['val_accuracy'])'''"
   ]
  },
  {
   "cell_type": "code",
   "execution_count": 116,
   "metadata": {},
   "outputs": [
    {
     "data": {
      "text/plain": [
       "\"plt.plot(history.history['loss'])\\nplt.plot(history.history['val_loss'])\""
      ]
     },
     "execution_count": 116,
     "metadata": {},
     "output_type": "execute_result"
    }
   ],
   "source": [
    "'''plt.plot(history.history['loss'])\n",
    "plt.plot(history.history['val_loss'])'''"
   ]
  },
  {
   "cell_type": "code",
   "execution_count": 117,
   "metadata": {},
   "outputs": [
    {
     "data": {
      "text/plain": [
       "'y_pred=model_ffn.predict(x_test)'"
      ]
     },
     "execution_count": 117,
     "metadata": {},
     "output_type": "execute_result"
    }
   ],
   "source": [
    "'''y_pred=model_ffn.predict(x_test)'''"
   ]
  },
  {
   "cell_type": "code",
   "execution_count": 118,
   "metadata": {},
   "outputs": [
    {
     "data": {
      "text/plain": [
       "'y_pred=np.argmax(y_pred,axis=-1)'"
      ]
     },
     "execution_count": 118,
     "metadata": {},
     "output_type": "execute_result"
    }
   ],
   "source": [
    "'''y_pred=np.argmax(y_pred,axis=-1)'''"
   ]
  },
  {
   "cell_type": "code",
   "execution_count": 119,
   "metadata": {},
   "outputs": [
    {
     "data": {
      "text/plain": [
       "'y_pred_enc=pd.get_dummies(y_pred,dtype=int)\\ny_test_enc=pd.get_dummies(y_test,dtype=int)'"
      ]
     },
     "execution_count": 119,
     "metadata": {},
     "output_type": "execute_result"
    }
   ],
   "source": [
    "'''y_pred_enc=pd.get_dummies(y_pred,dtype=int)\n",
    "y_test_enc=pd.get_dummies(y_test,dtype=int)'''"
   ]
  },
  {
   "cell_type": "code",
   "execution_count": 120,
   "metadata": {},
   "outputs": [
    {
     "data": {
      "text/plain": [
       "'print(accuracy_score(y_test_enc,y_pred_enc))'"
      ]
     },
     "execution_count": 120,
     "metadata": {},
     "output_type": "execute_result"
    }
   ],
   "source": [
    "'''print(accuracy_score(y_test_enc,y_pred_enc))'''"
   ]
  },
  {
   "cell_type": "code",
   "execution_count": 121,
   "metadata": {},
   "outputs": [
    {
     "data": {
      "text/plain": [
       "'print(classification_report(y_test_enc,y_pred_enc))'"
      ]
     },
     "execution_count": 121,
     "metadata": {},
     "output_type": "execute_result"
    }
   ],
   "source": [
    "'''print(classification_report(y_test_enc,y_pred_enc))'''"
   ]
  },
  {
   "cell_type": "code",
   "execution_count": 122,
   "metadata": {},
   "outputs": [
    {
     "data": {
      "text/plain": [
       "'y_test_original = np.argmax(y_test_enc, axis=1)\\ny_pred_original = np.argmax(y_pred_enc, axis=1)\\n\\nconf_matrix = confusion_matrix(y_test_original, y_pred_original)\\n'"
      ]
     },
     "execution_count": 122,
     "metadata": {},
     "output_type": "execute_result"
    }
   ],
   "source": [
    "'''y_test_original = np.argmax(y_test_enc, axis=1)\n",
    "y_pred_original = np.argmax(y_pred_enc, axis=1)\n",
    "\n",
    "conf_matrix = confusion_matrix(y_test_original, y_pred_original)\n",
    "'''"
   ]
  },
  {
   "cell_type": "code",
   "execution_count": 123,
   "metadata": {},
   "outputs": [
    {
     "data": {
      "text/plain": [
       "\"\\ndisp = ConfusionMatrixDisplay(confusion_matrix=conf_matrix,display_labels=np.unique(y_test))\\ndisp.plot(cmap='viridis', values_format='d')\\nplt.title('Confusion Matrix')\\nplt.xticks(rotation=45) \\nplt.show()\""
      ]
     },
     "execution_count": 123,
     "metadata": {},
     "output_type": "execute_result"
    }
   ],
   "source": [
    "'''\n",
    "disp = ConfusionMatrixDisplay(confusion_matrix=conf_matrix,display_labels=np.unique(y_test))\n",
    "disp.plot(cmap='viridis', values_format='d')\n",
    "plt.title('Confusion Matrix')\n",
    "plt.xticks(rotation=45) \n",
    "plt.show()'''"
   ]
  },
  {
   "cell_type": "code",
   "execution_count": 124,
   "metadata": {},
   "outputs": [
    {
     "data": {
      "text/plain": [
       "'best_dropout = None\\nbest_accuracy = 0.0\\n\\nfor dropout_rate in np.arange(0.1, 1.0, 0.1):  # Loop through dropout values from 0.1 to 1.0 with a step of 0.1\\n    model_ffn = keras.Sequential([\\n        keras.layers.Dense(32, input_dim=27, activation=\\'relu\\'),\\n        keras.layers.Dense(16, activation=\\'relu\\'),\\n        keras.layers.Dropout(dropout_rate),\\n        keras.layers.Dense(8, activation=\\'relu\\'),\\n        keras.layers.Dense(4, activation=\\'softmax\\')\\n    ])\\n    \\n    model_ffn.compile(loss=\\'categorical_crossentropy\\', optimizer=\\'adam\\', metrics=[\\'accuracy\\'])\\n    \\n    y_train_enc = pd.get_dummies(y_train, dtype=int)\\n    x_train, x_val, y_train, y_val = train_test_split(x_train, y_train_enc, test_size=0.2, random_state=42)\\n\\n    history = model_ffn.fit(x_train, y_train, epochs=500, validation_data=(x_val, y_val), verbose=0)\\n\\n    y_pred = model_ffn.predict(x_test)\\n    y_pred = np.argmax(y_pred, axis=-1)\\n    y_pred_enc = pd.get_dummies(y_pred, dtype=int)\\n    y_test_enc = pd.get_dummies(y_test, dtype=int)\\n\\n    accuracy = accuracy_score(y_test_enc, y_pred_enc)\\n\\n    print(f\"Dropout Rate: {dropout_rate:.1f}, Test Accuracy: {accuracy}\")\\n\\n    if accuracy > best_accuracy:\\n        best_accuracy = accuracy\\n        best_dropout = dropout_rate\\n        best_model_ffn = model_ffn  # Save the best model\\n\\nprint(f\"Best Dropout Rate: {best_dropout:.1f}, Best Test Accuracy: {best_accuracy}\")\\n\\n# Rest of the code using the best model\\ny_pred = best_model_ffn.predict(x_test)\\ny_pred = np.argmax(y_pred, axis=-1)\\ny_pred_enc = pd.get_dummies(y_pred, dtype=int)\\ny_test_enc = pd.get_dummies(y_test, dtype=int)\\n\\nprint(f\"Final Test Accuracy: {accuracy_score(y_test_enc, y_pred_enc)}\")\\nprint(classification_report(y_test_enc, y_pred_enc))\\n\\ny_test_original = np.argmax(y_test_enc, axis=1)\\ny_pred_original = np.argmax(y_pred_enc, axis=1)\\n\\ncf_matrix = confusion_matrix(y_test_original, y_pred_original)\\n\\ndisp = ConfusionMatrixDisplay(confusion_matrix=cf_matrix, display_labels=np.unique(y_test))\\ndisp.plot(cmap=\\'viridis\\', values_format=\\'d\\')\\nplt.title(\\'Confusion Matrix\\')\\nplt.xticks(rotation=45)\\nplt.show()'"
      ]
     },
     "execution_count": 124,
     "metadata": {},
     "output_type": "execute_result"
    }
   ],
   "source": [
    "'''best_dropout = None\n",
    "best_accuracy = 0.0\n",
    "\n",
    "for dropout_rate in np.arange(0.1, 1.0, 0.1):  # Loop through dropout values from 0.1 to 1.0 with a step of 0.1\n",
    "    model_ffn = keras.Sequential([\n",
    "        keras.layers.Dense(32, input_dim=27, activation='relu'),\n",
    "        keras.layers.Dense(16, activation='relu'),\n",
    "        keras.layers.Dropout(dropout_rate),\n",
    "        keras.layers.Dense(8, activation='relu'),\n",
    "        keras.layers.Dense(4, activation='softmax')\n",
    "    ])\n",
    "    \n",
    "    model_ffn.compile(loss='categorical_crossentropy', optimizer='adam', metrics=['accuracy'])\n",
    "    \n",
    "    y_train_enc = pd.get_dummies(y_train, dtype=int)\n",
    "    x_train, x_val, y_train, y_val = train_test_split(x_train, y_train_enc, test_size=0.2, random_state=42)\n",
    "\n",
    "    history = model_ffn.fit(x_train, y_train, epochs=500, validation_data=(x_val, y_val), verbose=0)\n",
    "\n",
    "    y_pred = model_ffn.predict(x_test)\n",
    "    y_pred = np.argmax(y_pred, axis=-1)\n",
    "    y_pred_enc = pd.get_dummies(y_pred, dtype=int)\n",
    "    y_test_enc = pd.get_dummies(y_test, dtype=int)\n",
    "\n",
    "    accuracy = accuracy_score(y_test_enc, y_pred_enc)\n",
    "\n",
    "    print(f\"Dropout Rate: {dropout_rate:.1f}, Test Accuracy: {accuracy}\")\n",
    "\n",
    "    if accuracy > best_accuracy:\n",
    "        best_accuracy = accuracy\n",
    "        best_dropout = dropout_rate\n",
    "        best_model_ffn = model_ffn  # Save the best model\n",
    "\n",
    "print(f\"Best Dropout Rate: {best_dropout:.1f}, Best Test Accuracy: {best_accuracy}\")\n",
    "\n",
    "# Rest of the code using the best model\n",
    "y_pred = best_model_ffn.predict(x_test)\n",
    "y_pred = np.argmax(y_pred, axis=-1)\n",
    "y_pred_enc = pd.get_dummies(y_pred, dtype=int)\n",
    "y_test_enc = pd.get_dummies(y_test, dtype=int)\n",
    "\n",
    "print(f\"Final Test Accuracy: {accuracy_score(y_test_enc, y_pred_enc)}\")\n",
    "print(classification_report(y_test_enc, y_pred_enc))\n",
    "\n",
    "y_test_original = np.argmax(y_test_enc, axis=1)\n",
    "y_pred_original = np.argmax(y_pred_enc, axis=1)\n",
    "\n",
    "cf_matrix = confusion_matrix(y_test_original, y_pred_original)\n",
    "\n",
    "disp = ConfusionMatrixDisplay(confusion_matrix=cf_matrix, display_labels=np.unique(y_test))\n",
    "disp.plot(cmap='viridis', values_format='d')\n",
    "plt.title('Confusion Matrix')\n",
    "plt.xticks(rotation=45)\n",
    "plt.show()'''"
   ]
  },
  {
   "cell_type": "markdown",
   "metadata": {},
   "source": [
    "## tune"
   ]
  },
  {
   "cell_type": "code",
   "execution_count": 36,
   "metadata": {},
   "outputs": [
    {
     "name": "stdout",
     "output_type": "stream",
     "text": [
      "Best Hyperparameters: {'C': 1, 'degree': 1, 'gamma': 1, 'kernel': 'rbf'}\n"
     ]
    }
   ],
   "source": [
    "from sklearn.model_selection import GridSearchCV\n",
    "\n",
    "grid = {\n",
    "\n",
    "    'C':[0.01,0.1,1,10],\n",
    "\n",
    "    'kernel' : [\"linear\",\"poly\",\"rbf\",\"sigmoid\"],\n",
    "\n",
    "    'degree' : [1,3,5,7],\n",
    "\n",
    "    'gamma' : [0.01,1]\n",
    "\n",
    "}\n",
    "\n",
    "svm  = SVC ()\n",
    "\n",
    "grid_search = GridSearchCV(svm, grid, cv = 5)\n",
    "\n",
    "\n",
    "# Perform the grid search\n",
    "grid_result = grid_search.fit(x_train, y_train)\n",
    "\n",
    "# Get the best hyperparameters\n",
    "best_params = grid_result.best_params_\n",
    "print(\"Best Hyperparameters:\", best_params)\n",
    "\n",
    "# Get the best model\n",
    "best_model_svm = grid_result.best_estimator_\n",
    "\n",
    "# Evaluate the best model on the test set\n",
    "y_pred_svm = best_model_svm.predict(x_test)"
   ]
  },
  {
   "cell_type": "code",
   "execution_count": 37,
   "metadata": {},
   "outputs": [
    {
     "data": {
      "text/plain": [
       "0.6666666666666666"
      ]
     },
     "execution_count": 37,
     "metadata": {},
     "output_type": "execute_result"
    }
   ],
   "source": [
    "accuracy_score(y_test,y_pred_svm)"
   ]
  },
  {
   "cell_type": "code",
   "execution_count": 41,
   "metadata": {},
   "outputs": [
    {
     "name": "stdout",
     "output_type": "stream",
     "text": [
      "               precision    recall  f1-score   support\n",
      "\n",
      "  Intentional       0.67      0.68      0.67       163\n",
      "      Natural       0.74      0.54      0.63       158\n",
      "        Other       0.68      0.91      0.77       149\n",
      "Unintentional       0.60      0.55      0.57       157\n",
      "\n",
      "     accuracy                           0.67       627\n",
      "    macro avg       0.67      0.67      0.66       627\n",
      " weighted avg       0.67      0.67      0.66       627\n",
      "\n"
     ]
    }
   ],
   "source": [
    "print(classification_report(y_test,y_pred_svm))"
   ]
  },
  {
   "cell_type": "code",
   "execution_count": 42,
   "metadata": {},
   "outputs": [
    {
     "data": {
      "image/png": "[encoded data removed]",
      "text/plain": [
       "<Figure size 640x480 with 2 Axes>"
      ]
     },
     "metadata": {},
     "output_type": "display_data"
    }
   ],
   "source": [
    "cf_matrix=confusion_matrix(y_test,y_pred_svm)\n",
    "ConfusionMatrixDisplay.from_estimator(best_model_svm, x_test, y_test)\n",
    "plt.xticks(rotation=45) \n",
    "plt.show()"
   ]
  },
  {
   "cell_type": "code",
   "execution_count": 78,
   "metadata": {},
   "outputs": [
    {
     "name": "stdout",
     "output_type": "stream",
     "text": [
      "Fitting 3 folds for each of 480 candidates, totalling 1440 fits\n",
      "Best Hyperparameters: {'max_depth': 20, 'min_samples_leaf': 1, 'min_samples_split': 5, 'n_estimators': 100}\n"
     ]
    }
   ],
   "source": [
    "'''from sklearn.ensemble import RandomForestClassifier\n",
    "from sklearn.model_selection import GridSearchCV\n",
    "from sklearn.metrics import accuracy_score, classification_report, confusion_matrix\n",
    "from sklearn.model_selection import train_test_split\n",
    "from sklearn.preprocessing import LabelEncoder\n",
    "\n",
    "# Assuming you have x_train, y_train, x_test, and y_test defined\n",
    "# Also, make sure x_train and x_test have the same number of features\n",
    "\n",
    "# Convert labels to numerical encoding\n",
    "label_encoder = LabelEncoder()\n",
    "#y_train_encoded = label_encoder.fit_transform(y_train)\n",
    "#y_test_encoded = label_encoder.transform(y_test)\n",
    "\n",
    "# Define the Random Forest model\n",
    "model_rf = RandomForestClassifier()\n",
    "\n",
    "# Define the hyperparameters to tune\n",
    "param_grid = {\n",
    "    'n_estimators': [10,20,30,40,50, 100],\n",
    "    'max_depth': [None, 10, 20, 30, 50],\n",
    "    'min_samples_split': [2, 5, 10, 15],\n",
    "    'min_samples_leaf': [1, 2, 4, 8]\n",
    "}\n",
    "\n",
    "# Use GridSearchCV to find the best hyperparameters\n",
    "grid_search = GridSearchCV(estimator=model_rf, param_grid=param_grid, cv=3, scoring='accuracy', verbose=1, n_jobs=-1)\n",
    "\n",
    "# Split the data into training and validation sets\n",
    "#x_train, x_val, y_train, y_val = train_test_split(x_train, y_train_encoded, test_size=0.2, random_state=42)\n",
    "\n",
    "# Perform the grid search\n",
    "grid_result = grid_search.fit(x_train, y_train)\n",
    "\n",
    "# Get the best hyperparameters\n",
    "best_params = grid_result.best_params_\n",
    "print(\"Best Hyperparameters:\", best_params)\n",
    "\n",
    "# Get the best model\n",
    "best_model_rf = grid_result.best_estimator_\n",
    "\n",
    "# Evaluate the best model on the test set\n",
    "y_pred_rf = best_model_rf.predict(x_test)\n",
    "\n",
    "'''"
   ]
  },
  {
   "cell_type": "code",
   "execution_count": 79,
   "metadata": {},
   "outputs": [
    {
     "data": {
      "text/plain": [
       "0.6427432216905901"
      ]
     },
     "execution_count": 79,
     "metadata": {},
     "output_type": "execute_result"
    }
   ],
   "source": [
    "'''accuracy_score(y_test,y_pred_rf)\n",
    "'''"
   ]
  },
  {
   "cell_type": "code",
   "execution_count": 80,
   "metadata": {},
   "outputs": [
    {
     "name": "stdout",
     "output_type": "stream",
     "text": [
      "               precision    recall  f1-score   support\n",
      "\n",
      "  Intentional       0.68      0.58      0.62       163\n",
      "      Natural       0.71      0.55      0.62       158\n",
      "        Other       0.64      0.92      0.75       149\n",
      "Unintentional       0.57      0.54      0.55       157\n",
      "\n",
      "     accuracy                           0.64       627\n",
      "    macro avg       0.65      0.65      0.64       627\n",
      " weighted avg       0.65      0.64      0.64       627\n",
      "\n"
     ]
    }
   ],
   "source": [
    "'''print(classification_report(y_test,y_pred_rf))'''"
   ]
  },
  {
   "cell_type": "code",
   "execution_count": 81,
   "metadata": {},
   "outputs": [
    {
     "data": {
      "image/png": "[encoded data removed]",
      "text/plain": [
       "<Figure size 640x480 with 2 Axes>"
      ]
     },
     "metadata": {},
     "output_type": "display_data"
    }
   ],
   "source": [
    "'''cf_matrix=confusion_matrix(y_test,y_pred_rf)\n",
    "ConfusionMatrixDisplay.from_estimator(best_model_rf, x_test, y_test)\n",
    "plt.xticks(rotation=45) \n",
    "plt.show()'''"
   ]
  },
  {
   "cell_type": "markdown",
   "metadata": {},
   "source": [
    "# #****************************************************************************************************************************"
   ]
  },
  {
   "cell_type": "code",
   "execution_count": 113,
   "metadata": {},
   "outputs": [],
   "source": [
    "from itertools import product\n",
    "\n",
    "# Create all possible combinations\n",
    "sex_values = df['Sex'].unique()\n",
    "months = df['Month'].unique()\n",
    "districts = df['District'].unique()\n",
    "age_categories = df['Age Category'].unique()\n",
    "#Main_Cause=df['Main_Cause'].unique()\n",
    "\n",
    "\n",
    "all_combinations = list(product(sex_values, months, districts, age_categories))\n",
    "\n",
    "# Create a DataFrame with all combinations\n",
    "columns = ['Sex', 'Month', 'District', 'Age Category']\n",
    "all_combinations_df = pd.DataFrame(all_combinations, columns=columns)\n",
    "\n"
   ]
  },
  {
   "cell_type": "code",
   "execution_count": 114,
   "metadata": {},
   "outputs": [
    {
     "data": {
      "text/html": [
       "<div>\n",
       "<style scoped>\n",
       "    .dataframe tbody tr th:only-of-type {\n",
       "        vertical-align: middle;\n",
       "    }\n",
       "\n",
       "    .dataframe tbody tr th {\n",
       "        vertical-align: top;\n",
       "    }\n",
       "\n",
       "    .dataframe thead th {\n",
       "        text-align: right;\n",
       "    }\n",
       "</style>\n",
       "<table border=\"1\" class=\"dataframe\">\n",
       "  <thead>\n",
       "    <tr style=\"text-align: right;\">\n",
       "      <th></th>\n",
       "      <th>Sex</th>\n",
       "      <th>Month</th>\n",
       "      <th>District</th>\n",
       "      <th>Age Category</th>\n",
       "    </tr>\n",
       "  </thead>\n",
       "  <tbody>\n",
       "    <tr>\n",
       "      <th>0</th>\n",
       "      <td>Male</td>\n",
       "      <td>January</td>\n",
       "      <td>Anuradhapura</td>\n",
       "      <td>Subadults and adults</td>\n",
       "    </tr>\n",
       "    <tr>\n",
       "      <th>1</th>\n",
       "      <td>Male</td>\n",
       "      <td>January</td>\n",
       "      <td>Anuradhapura</td>\n",
       "      <td>Juvenile</td>\n",
       "    </tr>\n",
       "    <tr>\n",
       "      <th>2</th>\n",
       "      <td>Male</td>\n",
       "      <td>January</td>\n",
       "      <td>Anuradhapura</td>\n",
       "      <td>Calf</td>\n",
       "    </tr>\n",
       "    <tr>\n",
       "      <th>3</th>\n",
       "      <td>Male</td>\n",
       "      <td>January</td>\n",
       "      <td>Anuradhapura</td>\n",
       "      <td>Infant</td>\n",
       "    </tr>\n",
       "    <tr>\n",
       "      <th>4</th>\n",
       "      <td>Male</td>\n",
       "      <td>January</td>\n",
       "      <td>Anuradhapura</td>\n",
       "      <td>Unknown</td>\n",
       "    </tr>\n",
       "    <tr>\n",
       "      <th>5</th>\n",
       "      <td>Male</td>\n",
       "      <td>January</td>\n",
       "      <td>Ampara</td>\n",
       "      <td>Subadults and adults</td>\n",
       "    </tr>\n",
       "    <tr>\n",
       "      <th>6</th>\n",
       "      <td>Male</td>\n",
       "      <td>January</td>\n",
       "      <td>Ampara</td>\n",
       "      <td>Juvenile</td>\n",
       "    </tr>\n",
       "    <tr>\n",
       "      <th>7</th>\n",
       "      <td>Male</td>\n",
       "      <td>January</td>\n",
       "      <td>Ampara</td>\n",
       "      <td>Calf</td>\n",
       "    </tr>\n",
       "    <tr>\n",
       "      <th>8</th>\n",
       "      <td>Male</td>\n",
       "      <td>January</td>\n",
       "      <td>Ampara</td>\n",
       "      <td>Infant</td>\n",
       "    </tr>\n",
       "    <tr>\n",
       "      <th>9</th>\n",
       "      <td>Male</td>\n",
       "      <td>January</td>\n",
       "      <td>Ampara</td>\n",
       "      <td>Unknown</td>\n",
       "    </tr>\n",
       "  </tbody>\n",
       "</table>\n",
       "</div>"
      ],
      "text/plain": [
       "    Sex    Month      District          Age Category\n",
       "0  Male  January  Anuradhapura  Subadults and adults\n",
       "1  Male  January  Anuradhapura              Juvenile\n",
       "2  Male  January  Anuradhapura                  Calf\n",
       "3  Male  January  Anuradhapura                Infant\n",
       "4  Male  January  Anuradhapura               Unknown\n",
       "5  Male  January        Ampara  Subadults and adults\n",
       "6  Male  January        Ampara              Juvenile\n",
       "7  Male  January        Ampara                  Calf\n",
       "8  Male  January        Ampara                Infant\n",
       "9  Male  January        Ampara               Unknown"
      ]
     },
     "execution_count": 114,
     "metadata": {},
     "output_type": "execute_result"
    }
   ],
   "source": [
    "all_combinations_df.head(10)"
   ]
  },
  {
   "cell_type": "code",
   "execution_count": 115,
   "metadata": {},
   "outputs": [],
   "source": [
    "selected_variables = pd.get_dummies(all_combinations_df, columns=[ 'District', 'Sex','Age Category','Month'],dtype=int)"
   ]
  },
  {
   "cell_type": "code",
   "execution_count": 116,
   "metadata": {},
   "outputs": [],
   "source": [
    "x=selected_variables"
   ]
  },
  {
   "cell_type": "code",
   "execution_count": 46,
   "metadata": {},
   "outputs": [],
   "source": [
    "'''x=selected_variables.drop(['Main_Cause'],axis=1)\n",
    "y=selected_variables['Main_Cause']'''"
   ]
  },
  {
   "cell_type": "code",
   "execution_count": 117,
   "metadata": {},
   "outputs": [],
   "source": [
    "columns_to_drop = ['District_Ampara', 'Sex_Unknown','Age Category_Unknown','Month_December']\n",
    "\n",
    "\n",
    "x.drop(columns=columns_to_drop, inplace=True)"
   ]
  },
  {
   "cell_type": "code",
   "execution_count": 118,
   "metadata": {},
   "outputs": [
    {
     "data": {
      "text/html": [
       "<div>\n",
       "<style scoped>\n",
       "    .dataframe tbody tr th:only-of-type {\n",
       "        vertical-align: middle;\n",
       "    }\n",
       "\n",
       "    .dataframe tbody tr th {\n",
       "        vertical-align: top;\n",
       "    }\n",
       "\n",
       "    .dataframe thead th {\n",
       "        text-align: right;\n",
       "    }\n",
       "</style>\n",
       "<table border=\"1\" class=\"dataframe\">\n",
       "  <thead>\n",
       "    <tr style=\"text-align: right;\">\n",
       "      <th></th>\n",
       "      <th>District_Anuradhapura</th>\n",
       "      <th>District_Badulla</th>\n",
       "      <th>District_Batticaloa</th>\n",
       "      <th>District_Hambantota</th>\n",
       "      <th>District_Kandy</th>\n",
       "      <th>District_Kilinochchi</th>\n",
       "      <th>District_Kurunegala</th>\n",
       "      <th>District_Mannar</th>\n",
       "      <th>District_Matale</th>\n",
       "      <th>District_Monaragala</th>\n",
       "      <th>...</th>\n",
       "      <th>Month_August</th>\n",
       "      <th>Month_February</th>\n",
       "      <th>Month_January</th>\n",
       "      <th>Month_July</th>\n",
       "      <th>Month_June</th>\n",
       "      <th>Month_March</th>\n",
       "      <th>Month_May</th>\n",
       "      <th>Month_November</th>\n",
       "      <th>Month_October</th>\n",
       "      <th>Month_September</th>\n",
       "    </tr>\n",
       "  </thead>\n",
       "  <tbody>\n",
       "    <tr>\n",
       "      <th>0</th>\n",
       "      <td>1</td>\n",
       "      <td>0</td>\n",
       "      <td>0</td>\n",
       "      <td>0</td>\n",
       "      <td>0</td>\n",
       "      <td>0</td>\n",
       "      <td>0</td>\n",
       "      <td>0</td>\n",
       "      <td>0</td>\n",
       "      <td>0</td>\n",
       "      <td>...</td>\n",
       "      <td>0</td>\n",
       "      <td>0</td>\n",
       "      <td>1</td>\n",
       "      <td>0</td>\n",
       "      <td>0</td>\n",
       "      <td>0</td>\n",
       "      <td>0</td>\n",
       "      <td>0</td>\n",
       "      <td>0</td>\n",
       "      <td>0</td>\n",
       "    </tr>\n",
       "    <tr>\n",
       "      <th>1</th>\n",
       "      <td>1</td>\n",
       "      <td>0</td>\n",
       "      <td>0</td>\n",
       "      <td>0</td>\n",
       "      <td>0</td>\n",
       "      <td>0</td>\n",
       "      <td>0</td>\n",
       "      <td>0</td>\n",
       "      <td>0</td>\n",
       "      <td>0</td>\n",
       "      <td>...</td>\n",
       "      <td>0</td>\n",
       "      <td>0</td>\n",
       "      <td>1</td>\n",
       "      <td>0</td>\n",
       "      <td>0</td>\n",
       "      <td>0</td>\n",
       "      <td>0</td>\n",
       "      <td>0</td>\n",
       "      <td>0</td>\n",
       "      <td>0</td>\n",
       "    </tr>\n",
       "    <tr>\n",
       "      <th>2</th>\n",
       "      <td>1</td>\n",
       "      <td>0</td>\n",
       "      <td>0</td>\n",
       "      <td>0</td>\n",
       "      <td>0</td>\n",
       "      <td>0</td>\n",
       "      <td>0</td>\n",
       "      <td>0</td>\n",
       "      <td>0</td>\n",
       "      <td>0</td>\n",
       "      <td>...</td>\n",
       "      <td>0</td>\n",
       "      <td>0</td>\n",
       "      <td>1</td>\n",
       "      <td>0</td>\n",
       "      <td>0</td>\n",
       "      <td>0</td>\n",
       "      <td>0</td>\n",
       "      <td>0</td>\n",
       "      <td>0</td>\n",
       "      <td>0</td>\n",
       "    </tr>\n",
       "    <tr>\n",
       "      <th>3</th>\n",
       "      <td>1</td>\n",
       "      <td>0</td>\n",
       "      <td>0</td>\n",
       "      <td>0</td>\n",
       "      <td>0</td>\n",
       "      <td>0</td>\n",
       "      <td>0</td>\n",
       "      <td>0</td>\n",
       "      <td>0</td>\n",
       "      <td>0</td>\n",
       "      <td>...</td>\n",
       "      <td>0</td>\n",
       "      <td>0</td>\n",
       "      <td>1</td>\n",
       "      <td>0</td>\n",
       "      <td>0</td>\n",
       "      <td>0</td>\n",
       "      <td>0</td>\n",
       "      <td>0</td>\n",
       "      <td>0</td>\n",
       "      <td>0</td>\n",
       "    </tr>\n",
       "    <tr>\n",
       "      <th>4</th>\n",
       "      <td>1</td>\n",
       "      <td>0</td>\n",
       "      <td>0</td>\n",
       "      <td>0</td>\n",
       "      <td>0</td>\n",
       "      <td>0</td>\n",
       "      <td>0</td>\n",
       "      <td>0</td>\n",
       "      <td>0</td>\n",
       "      <td>0</td>\n",
       "      <td>...</td>\n",
       "      <td>0</td>\n",
       "      <td>0</td>\n",
       "      <td>1</td>\n",
       "      <td>0</td>\n",
       "      <td>0</td>\n",
       "      <td>0</td>\n",
       "      <td>0</td>\n",
       "      <td>0</td>\n",
       "      <td>0</td>\n",
       "      <td>0</td>\n",
       "    </tr>\n",
       "    <tr>\n",
       "      <th>...</th>\n",
       "      <td>...</td>\n",
       "      <td>...</td>\n",
       "      <td>...</td>\n",
       "      <td>...</td>\n",
       "      <td>...</td>\n",
       "      <td>...</td>\n",
       "      <td>...</td>\n",
       "      <td>...</td>\n",
       "      <td>...</td>\n",
       "      <td>...</td>\n",
       "      <td>...</td>\n",
       "      <td>...</td>\n",
       "      <td>...</td>\n",
       "      <td>...</td>\n",
       "      <td>...</td>\n",
       "      <td>...</td>\n",
       "      <td>...</td>\n",
       "      <td>...</td>\n",
       "      <td>...</td>\n",
       "      <td>...</td>\n",
       "      <td>...</td>\n",
       "    </tr>\n",
       "    <tr>\n",
       "      <th>3415</th>\n",
       "      <td>0</td>\n",
       "      <td>0</td>\n",
       "      <td>0</td>\n",
       "      <td>0</td>\n",
       "      <td>0</td>\n",
       "      <td>0</td>\n",
       "      <td>0</td>\n",
       "      <td>0</td>\n",
       "      <td>0</td>\n",
       "      <td>0</td>\n",
       "      <td>...</td>\n",
       "      <td>0</td>\n",
       "      <td>0</td>\n",
       "      <td>0</td>\n",
       "      <td>0</td>\n",
       "      <td>0</td>\n",
       "      <td>0</td>\n",
       "      <td>0</td>\n",
       "      <td>0</td>\n",
       "      <td>0</td>\n",
       "      <td>0</td>\n",
       "    </tr>\n",
       "    <tr>\n",
       "      <th>3416</th>\n",
       "      <td>0</td>\n",
       "      <td>0</td>\n",
       "      <td>0</td>\n",
       "      <td>0</td>\n",
       "      <td>0</td>\n",
       "      <td>0</td>\n",
       "      <td>0</td>\n",
       "      <td>0</td>\n",
       "      <td>0</td>\n",
       "      <td>0</td>\n",
       "      <td>...</td>\n",
       "      <td>0</td>\n",
       "      <td>0</td>\n",
       "      <td>0</td>\n",
       "      <td>0</td>\n",
       "      <td>0</td>\n",
       "      <td>0</td>\n",
       "      <td>0</td>\n",
       "      <td>0</td>\n",
       "      <td>0</td>\n",
       "      <td>0</td>\n",
       "    </tr>\n",
       "    <tr>\n",
       "      <th>3417</th>\n",
       "      <td>0</td>\n",
       "      <td>0</td>\n",
       "      <td>0</td>\n",
       "      <td>0</td>\n",
       "      <td>0</td>\n",
       "      <td>0</td>\n",
       "      <td>0</td>\n",
       "      <td>0</td>\n",
       "      <td>0</td>\n",
       "      <td>0</td>\n",
       "      <td>...</td>\n",
       "      <td>0</td>\n",
       "      <td>0</td>\n",
       "      <td>0</td>\n",
       "      <td>0</td>\n",
       "      <td>0</td>\n",
       "      <td>0</td>\n",
       "      <td>0</td>\n",
       "      <td>0</td>\n",
       "      <td>0</td>\n",
       "      <td>0</td>\n",
       "    </tr>\n",
       "    <tr>\n",
       "      <th>3418</th>\n",
       "      <td>0</td>\n",
       "      <td>0</td>\n",
       "      <td>0</td>\n",
       "      <td>0</td>\n",
       "      <td>0</td>\n",
       "      <td>0</td>\n",
       "      <td>0</td>\n",
       "      <td>0</td>\n",
       "      <td>0</td>\n",
       "      <td>0</td>\n",
       "      <td>...</td>\n",
       "      <td>0</td>\n",
       "      <td>0</td>\n",
       "      <td>0</td>\n",
       "      <td>0</td>\n",
       "      <td>0</td>\n",
       "      <td>0</td>\n",
       "      <td>0</td>\n",
       "      <td>0</td>\n",
       "      <td>0</td>\n",
       "      <td>0</td>\n",
       "    </tr>\n",
       "    <tr>\n",
       "      <th>3419</th>\n",
       "      <td>0</td>\n",
       "      <td>0</td>\n",
       "      <td>0</td>\n",
       "      <td>0</td>\n",
       "      <td>0</td>\n",
       "      <td>0</td>\n",
       "      <td>0</td>\n",
       "      <td>0</td>\n",
       "      <td>0</td>\n",
       "      <td>0</td>\n",
       "      <td>...</td>\n",
       "      <td>0</td>\n",
       "      <td>0</td>\n",
       "      <td>0</td>\n",
       "      <td>0</td>\n",
       "      <td>0</td>\n",
       "      <td>0</td>\n",
       "      <td>0</td>\n",
       "      <td>0</td>\n",
       "      <td>0</td>\n",
       "      <td>0</td>\n",
       "    </tr>\n",
       "  </tbody>\n",
       "</table>\n",
       "<p>3420 rows × 35 columns</p>\n",
       "</div>"
      ],
      "text/plain": [
       "      District_Anuradhapura  District_Badulla  District_Batticaloa  \\\n",
       "0                         1                 0                    0   \n",
       "1                         1                 0                    0   \n",
       "2                         1                 0                    0   \n",
       "3                         1                 0                    0   \n",
       "4                         1                 0                    0   \n",
       "...                     ...               ...                  ...   \n",
       "3415                      0                 0                    0   \n",
       "3416                      0                 0                    0   \n",
       "3417                      0                 0                    0   \n",
       "3418                      0                 0                    0   \n",
       "3419                      0                 0                    0   \n",
       "\n",
       "      District_Hambantota  District_Kandy  District_Kilinochchi  \\\n",
       "0                       0               0                     0   \n",
       "1                       0               0                     0   \n",
       "2                       0               0                     0   \n",
       "3                       0               0                     0   \n",
       "4                       0               0                     0   \n",
       "...                   ...             ...                   ...   \n",
       "3415                    0               0                     0   \n",
       "3416                    0               0                     0   \n",
       "3417                    0               0                     0   \n",
       "3418                    0               0                     0   \n",
       "3419                    0               0                     0   \n",
       "\n",
       "      District_Kurunegala  District_Mannar  District_Matale  \\\n",
       "0                       0                0                0   \n",
       "1                       0                0                0   \n",
       "2                       0                0                0   \n",
       "3                       0                0                0   \n",
       "4                       0                0                0   \n",
       "...                   ...              ...              ...   \n",
       "3415                    0                0                0   \n",
       "3416                    0                0                0   \n",
       "3417                    0                0                0   \n",
       "3418                    0                0                0   \n",
       "3419                    0                0                0   \n",
       "\n",
       "      District_Monaragala  ...  Month_August  Month_February  Month_January  \\\n",
       "0                       0  ...             0               0              1   \n",
       "1                       0  ...             0               0              1   \n",
       "2                       0  ...             0               0              1   \n",
       "3                       0  ...             0               0              1   \n",
       "4                       0  ...             0               0              1   \n",
       "...                   ...  ...           ...             ...            ...   \n",
       "3415                    0  ...             0               0              0   \n",
       "3416                    0  ...             0               0              0   \n",
       "3417                    0  ...             0               0              0   \n",
       "3418                    0  ...             0               0              0   \n",
       "3419                    0  ...             0               0              0   \n",
       "\n",
       "      Month_July  Month_June  Month_March  Month_May  Month_November  \\\n",
       "0              0           0            0          0               0   \n",
       "1              0           0            0          0               0   \n",
       "2              0           0            0          0               0   \n",
       "3              0           0            0          0               0   \n",
       "4              0           0            0          0               0   \n",
       "...          ...         ...          ...        ...             ...   \n",
       "3415           0           0            0          0               0   \n",
       "3416           0           0            0          0               0   \n",
       "3417           0           0            0          0               0   \n",
       "3418           0           0            0          0               0   \n",
       "3419           0           0            0          0               0   \n",
       "\n",
       "      Month_October  Month_September  \n",
       "0                 0                0  \n",
       "1                 0                0  \n",
       "2                 0                0  \n",
       "3                 0                0  \n",
       "4                 0                0  \n",
       "...             ...              ...  \n",
       "3415              0                0  \n",
       "3416              0                0  \n",
       "3417              0                0  \n",
       "3418              0                0  \n",
       "3419              0                0  \n",
       "\n",
       "[3420 rows x 35 columns]"
      ]
     },
     "execution_count": 118,
     "metadata": {},
     "output_type": "execute_result"
    }
   ],
   "source": [
    "x"
   ]
  },
  {
   "cell_type": "code",
   "execution_count": 66,
   "metadata": {},
   "outputs": [],
   "source": [
    "y_pred_svm = best_model_svm.predict(x)\n"
   ]
  },
  {
   "cell_type": "code",
   "execution_count": 67,
   "metadata": {},
   "outputs": [],
   "source": [
    "pred=pd.DataFrame(y_pred_svm)"
   ]
  },
  {
   "cell_type": "code",
   "execution_count": 68,
   "metadata": {},
   "outputs": [
    {
     "data": {
      "text/plain": [
       "Intentional      2537\n",
       "Unintentional     397\n",
       "Natural           362\n",
       "Other             124\n",
       "Name: count, dtype: int64"
      ]
     },
     "execution_count": 68,
     "metadata": {},
     "output_type": "execute_result"
    }
   ],
   "source": [
    "pred.value_counts()"
   ]
  },
  {
   "cell_type": "code",
   "execution_count": 69,
   "metadata": {},
   "outputs": [],
   "source": [
    "pred_df = pd.concat([all_combinations_df, pred], axis=1)\n"
   ]
  },
  {
   "cell_type": "code",
   "execution_count": 70,
   "metadata": {},
   "outputs": [],
   "source": [
    "pred_df.rename(columns={0: 'Prediction'}, inplace=True)"
   ]
  },
  {
   "cell_type": "code",
   "execution_count": 72,
   "metadata": {},
   "outputs": [
    {
     "data": {
      "text/html": [
       "<div>\n",
       "<style scoped>\n",
       "    .dataframe tbody tr th:only-of-type {\n",
       "        vertical-align: middle;\n",
       "    }\n",
       "\n",
       "    .dataframe tbody tr th {\n",
       "        vertical-align: top;\n",
       "    }\n",
       "\n",
       "    .dataframe thead th {\n",
       "        text-align: right;\n",
       "    }\n",
       "</style>\n",
       "<table border=\"1\" class=\"dataframe\">\n",
       "  <thead>\n",
       "    <tr style=\"text-align: right;\">\n",
       "      <th></th>\n",
       "      <th>Sex</th>\n",
       "      <th>Month</th>\n",
       "      <th>District</th>\n",
       "      <th>Age Category</th>\n",
       "      <th>Prediction</th>\n",
       "    </tr>\n",
       "  </thead>\n",
       "  <tbody>\n",
       "    <tr>\n",
       "      <th>0</th>\n",
       "      <td>Male</td>\n",
       "      <td>January</td>\n",
       "      <td>Anuradhapura</td>\n",
       "      <td>Subadults and adults</td>\n",
       "      <td>Unintentional</td>\n",
       "    </tr>\n",
       "    <tr>\n",
       "      <th>1</th>\n",
       "      <td>Male</td>\n",
       "      <td>January</td>\n",
       "      <td>Anuradhapura</td>\n",
       "      <td>Juvenile</td>\n",
       "      <td>Intentional</td>\n",
       "    </tr>\n",
       "    <tr>\n",
       "      <th>2</th>\n",
       "      <td>Male</td>\n",
       "      <td>January</td>\n",
       "      <td>Anuradhapura</td>\n",
       "      <td>Calf</td>\n",
       "      <td>Unintentional</td>\n",
       "    </tr>\n",
       "    <tr>\n",
       "      <th>3</th>\n",
       "      <td>Male</td>\n",
       "      <td>January</td>\n",
       "      <td>Anuradhapura</td>\n",
       "      <td>Infant</td>\n",
       "      <td>Intentional</td>\n",
       "    </tr>\n",
       "    <tr>\n",
       "      <th>4</th>\n",
       "      <td>Male</td>\n",
       "      <td>January</td>\n",
       "      <td>Anuradhapura</td>\n",
       "      <td>Unknown</td>\n",
       "      <td>Unintentional</td>\n",
       "    </tr>\n",
       "    <tr>\n",
       "      <th>5</th>\n",
       "      <td>Male</td>\n",
       "      <td>January</td>\n",
       "      <td>Ampara</td>\n",
       "      <td>Subadults and adults</td>\n",
       "      <td>Unintentional</td>\n",
       "    </tr>\n",
       "    <tr>\n",
       "      <th>6</th>\n",
       "      <td>Male</td>\n",
       "      <td>January</td>\n",
       "      <td>Ampara</td>\n",
       "      <td>Juvenile</td>\n",
       "      <td>Intentional</td>\n",
       "    </tr>\n",
       "    <tr>\n",
       "      <th>7</th>\n",
       "      <td>Male</td>\n",
       "      <td>January</td>\n",
       "      <td>Ampara</td>\n",
       "      <td>Calf</td>\n",
       "      <td>Other</td>\n",
       "    </tr>\n",
       "    <tr>\n",
       "      <th>8</th>\n",
       "      <td>Male</td>\n",
       "      <td>January</td>\n",
       "      <td>Ampara</td>\n",
       "      <td>Infant</td>\n",
       "      <td>Natural</td>\n",
       "    </tr>\n",
       "    <tr>\n",
       "      <th>9</th>\n",
       "      <td>Male</td>\n",
       "      <td>January</td>\n",
       "      <td>Ampara</td>\n",
       "      <td>Unknown</td>\n",
       "      <td>Other</td>\n",
       "    </tr>\n",
       "  </tbody>\n",
       "</table>\n",
       "</div>"
      ],
      "text/plain": [
       "    Sex    Month      District          Age Category     Prediction\n",
       "0  Male  January  Anuradhapura  Subadults and adults  Unintentional\n",
       "1  Male  January  Anuradhapura              Juvenile    Intentional\n",
       "2  Male  January  Anuradhapura                  Calf  Unintentional\n",
       "3  Male  January  Anuradhapura                Infant    Intentional\n",
       "4  Male  January  Anuradhapura               Unknown  Unintentional\n",
       "5  Male  January        Ampara  Subadults and adults  Unintentional\n",
       "6  Male  January        Ampara              Juvenile    Intentional\n",
       "7  Male  January        Ampara                  Calf          Other\n",
       "8  Male  January        Ampara                Infant        Natural\n",
       "9  Male  January        Ampara               Unknown          Other"
      ]
     },
     "execution_count": 72,
     "metadata": {},
     "output_type": "execute_result"
    }
   ],
   "source": [
    "pred_df.head(10)"
   ]
  },
  {
   "cell_type": "code",
   "execution_count": 73,
   "metadata": {},
   "outputs": [],
   "source": [
    "output_file_path = r'main_cause_prediction.csv'\n",
    "\n",
    "pred_df.to_csv(output_file_path, index=False)"
   ]
  },
  {
   "cell_type": "markdown",
   "metadata": {},
   "source": [
    "## Intentional"
   ]
  },
  {
   "cell_type": "code",
   "execution_count": 221,
   "metadata": {},
   "outputs": [],
   "source": [
    "intentional_df=df[df['Main_Cause']=='Intentional']"
   ]
  },
  {
   "cell_type": "code",
   "execution_count": 78,
   "metadata": {},
   "outputs": [
    {
     "data": {
      "text/html": [
       "<div>\n",
       "<style scoped>\n",
       "    .dataframe tbody tr th:only-of-type {\n",
       "        vertical-align: middle;\n",
       "    }\n",
       "\n",
       "    .dataframe tbody tr th {\n",
       "        vertical-align: top;\n",
       "    }\n",
       "\n",
       "    .dataframe thead th {\n",
       "        text-align: right;\n",
       "    }\n",
       "</style>\n",
       "<table border=\"1\" class=\"dataframe\">\n",
       "  <thead>\n",
       "    <tr style=\"text-align: right;\">\n",
       "      <th></th>\n",
       "      <th>No</th>\n",
       "      <th>Region</th>\n",
       "      <th>District</th>\n",
       "      <th>D/S Office</th>\n",
       "      <th>Date of Death</th>\n",
       "      <th>Cause of Death</th>\n",
       "      <th>Sex</th>\n",
       "      <th>Age</th>\n",
       "      <th>Age Category</th>\n",
       "      <th>Main_Cause</th>\n",
       "      <th>Month</th>\n",
       "    </tr>\n",
       "  </thead>\n",
       "  <tbody>\n",
       "    <tr>\n",
       "      <th>3</th>\n",
       "      <td>4</td>\n",
       "      <td>Eastern</td>\n",
       "      <td>Ampara</td>\n",
       "      <td>Thirukkovil</td>\n",
       "      <td>2010-01-12</td>\n",
       "      <td>Gunshot</td>\n",
       "      <td>Female</td>\n",
       "      <td>15-20</td>\n",
       "      <td>Subadults and adults</td>\n",
       "      <td>Intentional</td>\n",
       "      <td>January</td>\n",
       "    </tr>\n",
       "    <tr>\n",
       "      <th>5</th>\n",
       "      <td>6</td>\n",
       "      <td>North Western</td>\n",
       "      <td>Kurunegala</td>\n",
       "      <td>Pannala</td>\n",
       "      <td>2010-01-16</td>\n",
       "      <td>Gunshot</td>\n",
       "      <td>Male</td>\n",
       "      <td>35-40</td>\n",
       "      <td>Subadults and adults</td>\n",
       "      <td>Intentional</td>\n",
       "      <td>January</td>\n",
       "    </tr>\n",
       "    <tr>\n",
       "      <th>7</th>\n",
       "      <td>8</td>\n",
       "      <td>North Western</td>\n",
       "      <td>Puttalam</td>\n",
       "      <td>Puttalam</td>\n",
       "      <td>2010-01-20</td>\n",
       "      <td>Gunshot</td>\n",
       "      <td>Male</td>\n",
       "      <td>7</td>\n",
       "      <td>Juvenile</td>\n",
       "      <td>Intentional</td>\n",
       "      <td>January</td>\n",
       "    </tr>\n",
       "    <tr>\n",
       "      <th>8</th>\n",
       "      <td>9</td>\n",
       "      <td>Eastern</td>\n",
       "      <td>Monaragala</td>\n",
       "      <td>Madulla</td>\n",
       "      <td>2010-01-25</td>\n",
       "      <td>Gunshot</td>\n",
       "      <td>Male</td>\n",
       "      <td>20-28</td>\n",
       "      <td>Subadults and adults</td>\n",
       "      <td>Intentional</td>\n",
       "      <td>January</td>\n",
       "    </tr>\n",
       "    <tr>\n",
       "      <th>10</th>\n",
       "      <td>11</td>\n",
       "      <td>Eastern</td>\n",
       "      <td>Ampara</td>\n",
       "      <td>Mahaoya</td>\n",
       "      <td>2010-02-03</td>\n",
       "      <td>Gunshot</td>\n",
       "      <td>Female</td>\n",
       "      <td>10-12</td>\n",
       "      <td>Juvenile</td>\n",
       "      <td>Intentional</td>\n",
       "      <td>February</td>\n",
       "    </tr>\n",
       "  </tbody>\n",
       "</table>\n",
       "</div>"
      ],
      "text/plain": [
       "    No         Region    District   D/S Office Date of Death Cause of Death  \\\n",
       "3    4        Eastern      Ampara  Thirukkovil    2010-01-12        Gunshot   \n",
       "5    6  North Western  Kurunegala      Pannala    2010-01-16        Gunshot   \n",
       "7    8  North Western    Puttalam     Puttalam    2010-01-20        Gunshot   \n",
       "8    9        Eastern  Monaragala      Madulla    2010-01-25        Gunshot   \n",
       "10  11        Eastern      Ampara      Mahaoya    2010-02-03        Gunshot   \n",
       "\n",
       "       Sex    Age          Age Category   Main_Cause     Month  \n",
       "3   Female  15-20  Subadults and adults  Intentional   January  \n",
       "5     Male  35-40  Subadults and adults  Intentional   January  \n",
       "7     Male      7              Juvenile  Intentional   January  \n",
       "8     Male  20-28  Subadults and adults  Intentional   January  \n",
       "10  Female  10-12              Juvenile  Intentional  February  "
      ]
     },
     "execution_count": 78,
     "metadata": {},
     "output_type": "execute_result"
    }
   ],
   "source": [
    "intentional_df.head()"
   ]
  },
  {
   "cell_type": "code",
   "execution_count": 222,
   "metadata": {},
   "outputs": [
    {
     "data": {
      "text/plain": [
       "<Axes: xlabel='Cause of Death', ylabel='count'>"
      ]
     },
     "execution_count": 222,
     "metadata": {},
     "output_type": "execute_result"
    },
    {
     "data": {
      "image/png": "[encoded data removed]",
      "text/plain": [
       "<Figure size 1600x1200 with 1 Axes>"
      ]
     },
     "metadata": {},
     "output_type": "display_data"
    }
   ],
   "source": [
    "plt.figure(figsize=(16, 12))\n",
    "plt.xticks(rotation=45) \n",
    "sns.countplot(intentional_df,x='Cause of Death')\n"
   ]
  },
  {
   "cell_type": "code",
   "execution_count": 223,
   "metadata": {},
   "outputs": [],
   "source": [
    "selected_variables_in = intentional_df[['Cause of Death', 'District', 'Sex',\"Age Category\",\"Month\"]]\n",
    "selected_variables_in = pd.get_dummies(selected_variables_in, columns=[ 'District', 'Sex','Age Category','Month'],dtype=int)"
   ]
  },
  {
   "cell_type": "code",
   "execution_count": 224,
   "metadata": {},
   "outputs": [
    {
     "data": {
      "text/html": [
       "<div>\n",
       "<style scoped>\n",
       "    .dataframe tbody tr th:only-of-type {\n",
       "        vertical-align: middle;\n",
       "    }\n",
       "\n",
       "    .dataframe tbody tr th {\n",
       "        vertical-align: top;\n",
       "    }\n",
       "\n",
       "    .dataframe thead th {\n",
       "        text-align: right;\n",
       "    }\n",
       "</style>\n",
       "<table border=\"1\" class=\"dataframe\">\n",
       "  <thead>\n",
       "    <tr style=\"text-align: right;\">\n",
       "      <th></th>\n",
       "      <th>Cause of Death</th>\n",
       "      <th>District_Ampara</th>\n",
       "      <th>District_Anuradhapura</th>\n",
       "      <th>District_Badulla</th>\n",
       "      <th>District_Batticaloa</th>\n",
       "      <th>District_Hambantota</th>\n",
       "      <th>District_Kandy</th>\n",
       "      <th>District_Kilinochchi</th>\n",
       "      <th>District_Kurunegala</th>\n",
       "      <th>District_Mannar</th>\n",
       "      <th>...</th>\n",
       "      <th>Month_December</th>\n",
       "      <th>Month_February</th>\n",
       "      <th>Month_January</th>\n",
       "      <th>Month_July</th>\n",
       "      <th>Month_June</th>\n",
       "      <th>Month_March</th>\n",
       "      <th>Month_May</th>\n",
       "      <th>Month_November</th>\n",
       "      <th>Month_October</th>\n",
       "      <th>Month_September</th>\n",
       "    </tr>\n",
       "  </thead>\n",
       "  <tbody>\n",
       "    <tr>\n",
       "      <th>3</th>\n",
       "      <td>Gunshot</td>\n",
       "      <td>1</td>\n",
       "      <td>0</td>\n",
       "      <td>0</td>\n",
       "      <td>0</td>\n",
       "      <td>0</td>\n",
       "      <td>0</td>\n",
       "      <td>0</td>\n",
       "      <td>0</td>\n",
       "      <td>0</td>\n",
       "      <td>...</td>\n",
       "      <td>0</td>\n",
       "      <td>0</td>\n",
       "      <td>1</td>\n",
       "      <td>0</td>\n",
       "      <td>0</td>\n",
       "      <td>0</td>\n",
       "      <td>0</td>\n",
       "      <td>0</td>\n",
       "      <td>0</td>\n",
       "      <td>0</td>\n",
       "    </tr>\n",
       "    <tr>\n",
       "      <th>5</th>\n",
       "      <td>Gunshot</td>\n",
       "      <td>0</td>\n",
       "      <td>0</td>\n",
       "      <td>0</td>\n",
       "      <td>0</td>\n",
       "      <td>0</td>\n",
       "      <td>0</td>\n",
       "      <td>0</td>\n",
       "      <td>1</td>\n",
       "      <td>0</td>\n",
       "      <td>...</td>\n",
       "      <td>0</td>\n",
       "      <td>0</td>\n",
       "      <td>1</td>\n",
       "      <td>0</td>\n",
       "      <td>0</td>\n",
       "      <td>0</td>\n",
       "      <td>0</td>\n",
       "      <td>0</td>\n",
       "      <td>0</td>\n",
       "      <td>0</td>\n",
       "    </tr>\n",
       "    <tr>\n",
       "      <th>7</th>\n",
       "      <td>Gunshot</td>\n",
       "      <td>0</td>\n",
       "      <td>0</td>\n",
       "      <td>0</td>\n",
       "      <td>0</td>\n",
       "      <td>0</td>\n",
       "      <td>0</td>\n",
       "      <td>0</td>\n",
       "      <td>0</td>\n",
       "      <td>0</td>\n",
       "      <td>...</td>\n",
       "      <td>0</td>\n",
       "      <td>0</td>\n",
       "      <td>1</td>\n",
       "      <td>0</td>\n",
       "      <td>0</td>\n",
       "      <td>0</td>\n",
       "      <td>0</td>\n",
       "      <td>0</td>\n",
       "      <td>0</td>\n",
       "      <td>0</td>\n",
       "    </tr>\n",
       "    <tr>\n",
       "      <th>8</th>\n",
       "      <td>Gunshot</td>\n",
       "      <td>0</td>\n",
       "      <td>0</td>\n",
       "      <td>0</td>\n",
       "      <td>0</td>\n",
       "      <td>0</td>\n",
       "      <td>0</td>\n",
       "      <td>0</td>\n",
       "      <td>0</td>\n",
       "      <td>0</td>\n",
       "      <td>...</td>\n",
       "      <td>0</td>\n",
       "      <td>0</td>\n",
       "      <td>1</td>\n",
       "      <td>0</td>\n",
       "      <td>0</td>\n",
       "      <td>0</td>\n",
       "      <td>0</td>\n",
       "      <td>0</td>\n",
       "      <td>0</td>\n",
       "      <td>0</td>\n",
       "    </tr>\n",
       "    <tr>\n",
       "      <th>10</th>\n",
       "      <td>Gunshot</td>\n",
       "      <td>1</td>\n",
       "      <td>0</td>\n",
       "      <td>0</td>\n",
       "      <td>0</td>\n",
       "      <td>0</td>\n",
       "      <td>0</td>\n",
       "      <td>0</td>\n",
       "      <td>0</td>\n",
       "      <td>0</td>\n",
       "      <td>...</td>\n",
       "      <td>0</td>\n",
       "      <td>1</td>\n",
       "      <td>0</td>\n",
       "      <td>0</td>\n",
       "      <td>0</td>\n",
       "      <td>0</td>\n",
       "      <td>0</td>\n",
       "      <td>0</td>\n",
       "      <td>0</td>\n",
       "      <td>0</td>\n",
       "    </tr>\n",
       "    <tr>\n",
       "      <th>...</th>\n",
       "      <td>...</td>\n",
       "      <td>...</td>\n",
       "      <td>...</td>\n",
       "      <td>...</td>\n",
       "      <td>...</td>\n",
       "      <td>...</td>\n",
       "      <td>...</td>\n",
       "      <td>...</td>\n",
       "      <td>...</td>\n",
       "      <td>...</td>\n",
       "      <td>...</td>\n",
       "      <td>...</td>\n",
       "      <td>...</td>\n",
       "      <td>...</td>\n",
       "      <td>...</td>\n",
       "      <td>...</td>\n",
       "      <td>...</td>\n",
       "      <td>...</td>\n",
       "      <td>...</td>\n",
       "      <td>...</td>\n",
       "      <td>...</td>\n",
       "    </tr>\n",
       "    <tr>\n",
       "      <th>1880</th>\n",
       "      <td>Hakkapatas</td>\n",
       "      <td>0</td>\n",
       "      <td>0</td>\n",
       "      <td>0</td>\n",
       "      <td>0</td>\n",
       "      <td>0</td>\n",
       "      <td>0</td>\n",
       "      <td>0</td>\n",
       "      <td>0</td>\n",
       "      <td>0</td>\n",
       "      <td>...</td>\n",
       "      <td>1</td>\n",
       "      <td>0</td>\n",
       "      <td>0</td>\n",
       "      <td>0</td>\n",
       "      <td>0</td>\n",
       "      <td>0</td>\n",
       "      <td>0</td>\n",
       "      <td>0</td>\n",
       "      <td>0</td>\n",
       "      <td>0</td>\n",
       "    </tr>\n",
       "    <tr>\n",
       "      <th>1883</th>\n",
       "      <td>Hakkapatas</td>\n",
       "      <td>0</td>\n",
       "      <td>0</td>\n",
       "      <td>1</td>\n",
       "      <td>0</td>\n",
       "      <td>0</td>\n",
       "      <td>0</td>\n",
       "      <td>0</td>\n",
       "      <td>0</td>\n",
       "      <td>0</td>\n",
       "      <td>...</td>\n",
       "      <td>1</td>\n",
       "      <td>0</td>\n",
       "      <td>0</td>\n",
       "      <td>0</td>\n",
       "      <td>0</td>\n",
       "      <td>0</td>\n",
       "      <td>0</td>\n",
       "      <td>0</td>\n",
       "      <td>0</td>\n",
       "      <td>0</td>\n",
       "    </tr>\n",
       "    <tr>\n",
       "      <th>1885</th>\n",
       "      <td>Hakkapatas</td>\n",
       "      <td>0</td>\n",
       "      <td>1</td>\n",
       "      <td>0</td>\n",
       "      <td>0</td>\n",
       "      <td>0</td>\n",
       "      <td>0</td>\n",
       "      <td>0</td>\n",
       "      <td>0</td>\n",
       "      <td>0</td>\n",
       "      <td>...</td>\n",
       "      <td>1</td>\n",
       "      <td>0</td>\n",
       "      <td>0</td>\n",
       "      <td>0</td>\n",
       "      <td>0</td>\n",
       "      <td>0</td>\n",
       "      <td>0</td>\n",
       "      <td>0</td>\n",
       "      <td>0</td>\n",
       "      <td>0</td>\n",
       "    </tr>\n",
       "    <tr>\n",
       "      <th>1887</th>\n",
       "      <td>Hakkapatas</td>\n",
       "      <td>0</td>\n",
       "      <td>0</td>\n",
       "      <td>0</td>\n",
       "      <td>0</td>\n",
       "      <td>0</td>\n",
       "      <td>0</td>\n",
       "      <td>0</td>\n",
       "      <td>1</td>\n",
       "      <td>0</td>\n",
       "      <td>...</td>\n",
       "      <td>1</td>\n",
       "      <td>0</td>\n",
       "      <td>0</td>\n",
       "      <td>0</td>\n",
       "      <td>0</td>\n",
       "      <td>0</td>\n",
       "      <td>0</td>\n",
       "      <td>0</td>\n",
       "      <td>0</td>\n",
       "      <td>0</td>\n",
       "    </tr>\n",
       "    <tr>\n",
       "      <th>1893</th>\n",
       "      <td>Hakkapatas</td>\n",
       "      <td>0</td>\n",
       "      <td>0</td>\n",
       "      <td>1</td>\n",
       "      <td>0</td>\n",
       "      <td>0</td>\n",
       "      <td>0</td>\n",
       "      <td>0</td>\n",
       "      <td>0</td>\n",
       "      <td>0</td>\n",
       "      <td>...</td>\n",
       "      <td>1</td>\n",
       "      <td>0</td>\n",
       "      <td>0</td>\n",
       "      <td>0</td>\n",
       "      <td>0</td>\n",
       "      <td>0</td>\n",
       "      <td>0</td>\n",
       "      <td>0</td>\n",
       "      <td>0</td>\n",
       "      <td>0</td>\n",
       "    </tr>\n",
       "  </tbody>\n",
       "</table>\n",
       "<p>783 rows × 39 columns</p>\n",
       "</div>"
      ],
      "text/plain": [
       "     Cause of Death  District_Ampara  District_Anuradhapura  District_Badulla  \\\n",
       "3           Gunshot                1                      0                 0   \n",
       "5           Gunshot                0                      0                 0   \n",
       "7           Gunshot                0                      0                 0   \n",
       "8           Gunshot                0                      0                 0   \n",
       "10          Gunshot                1                      0                 0   \n",
       "...             ...              ...                    ...               ...   \n",
       "1880     Hakkapatas                0                      0                 0   \n",
       "1883     Hakkapatas                0                      0                 1   \n",
       "1885     Hakkapatas                0                      1                 0   \n",
       "1887     Hakkapatas                0                      0                 0   \n",
       "1893     Hakkapatas                0                      0                 1   \n",
       "\n",
       "      District_Batticaloa  District_Hambantota  District_Kandy  \\\n",
       "3                       0                    0               0   \n",
       "5                       0                    0               0   \n",
       "7                       0                    0               0   \n",
       "8                       0                    0               0   \n",
       "10                      0                    0               0   \n",
       "...                   ...                  ...             ...   \n",
       "1880                    0                    0               0   \n",
       "1883                    0                    0               0   \n",
       "1885                    0                    0               0   \n",
       "1887                    0                    0               0   \n",
       "1893                    0                    0               0   \n",
       "\n",
       "      District_Kilinochchi  District_Kurunegala  District_Mannar  ...  \\\n",
       "3                        0                    0                0  ...   \n",
       "5                        0                    1                0  ...   \n",
       "7                        0                    0                0  ...   \n",
       "8                        0                    0                0  ...   \n",
       "10                       0                    0                0  ...   \n",
       "...                    ...                  ...              ...  ...   \n",
       "1880                     0                    0                0  ...   \n",
       "1883                     0                    0                0  ...   \n",
       "1885                     0                    0                0  ...   \n",
       "1887                     0                    1                0  ...   \n",
       "1893                     0                    0                0  ...   \n",
       "\n",
       "      Month_December  Month_February  Month_January  Month_July  Month_June  \\\n",
       "3                  0               0              1           0           0   \n",
       "5                  0               0              1           0           0   \n",
       "7                  0               0              1           0           0   \n",
       "8                  0               0              1           0           0   \n",
       "10                 0               1              0           0           0   \n",
       "...              ...             ...            ...         ...         ...   \n",
       "1880               1               0              0           0           0   \n",
       "1883               1               0              0           0           0   \n",
       "1885               1               0              0           0           0   \n",
       "1887               1               0              0           0           0   \n",
       "1893               1               0              0           0           0   \n",
       "\n",
       "      Month_March  Month_May  Month_November  Month_October  Month_September  \n",
       "3               0          0               0              0                0  \n",
       "5               0          0               0              0                0  \n",
       "7               0          0               0              0                0  \n",
       "8               0          0               0              0                0  \n",
       "10              0          0               0              0                0  \n",
       "...           ...        ...             ...            ...              ...  \n",
       "1880            0          0               0              0                0  \n",
       "1883            0          0               0              0                0  \n",
       "1885            0          0               0              0                0  \n",
       "1887            0          0               0              0                0  \n",
       "1893            0          0               0              0                0  \n",
       "\n",
       "[783 rows x 39 columns]"
      ]
     },
     "execution_count": 224,
     "metadata": {},
     "output_type": "execute_result"
    }
   ],
   "source": [
    "selected_variables_in"
   ]
  },
  {
   "cell_type": "code",
   "execution_count": 225,
   "metadata": {},
   "outputs": [],
   "source": [
    "columns_to_drop = ['District_Ampara', 'Sex_Unknown','Age Category_Unknown','Month_December']\n",
    "\n",
    "selected_variables_in.drop(columns=columns_to_drop, inplace=True)"
   ]
  },
  {
   "cell_type": "code",
   "execution_count": 226,
   "metadata": {},
   "outputs": [],
   "source": [
    "x_int=selected_variables_in.drop(['Cause of Death'],axis=1)\n",
    "y_int=selected_variables_in['Cause of Death']"
   ]
  },
  {
   "cell_type": "code",
   "execution_count": 227,
   "metadata": {},
   "outputs": [],
   "source": [
    "from imblearn.over_sampling import SMOTE\n",
    "sm=SMOTE(random_state=2)\n",
    "x_int,y_int=sm.fit_resample(x_int,y_int)"
   ]
  },
  {
   "cell_type": "code",
   "execution_count": 228,
   "metadata": {},
   "outputs": [
    {
     "data": {
      "text/plain": [
       "Cause of Death\n",
       "Gunshot       403\n",
       "Poisned       403\n",
       "Hakkapatas    403\n",
       "Land mine     403\n",
       "Name: count, dtype: int64"
      ]
     },
     "execution_count": 228,
     "metadata": {},
     "output_type": "execute_result"
    }
   ],
   "source": [
    "y_int.value_counts()"
   ]
  },
  {
   "cell_type": "code",
   "execution_count": 229,
   "metadata": {},
   "outputs": [],
   "source": [
    "x_train, x_test,y_train, y_test = train_test_split(x_int,y_int,test_size=0.2,random_state=1234)"
   ]
  },
  {
   "cell_type": "code",
   "execution_count": 230,
   "metadata": {},
   "outputs": [],
   "source": [
    "model_svc_int = SVC()\n",
    "model_svc_int.fit(x_train,y_train)\n",
    "\n",
    "y_pred= model_svc_int.predict(x_test)"
   ]
  },
  {
   "cell_type": "code",
   "execution_count": 231,
   "metadata": {},
   "outputs": [
    {
     "data": {
      "text/plain": [
       "0.7244582043343654"
      ]
     },
     "execution_count": 231,
     "metadata": {},
     "output_type": "execute_result"
    }
   ],
   "source": [
    "accuracy_score(y_test,y_pred)"
   ]
  },
  {
   "cell_type": "code",
   "execution_count": 93,
   "metadata": {},
   "outputs": [
    {
     "name": "stdout",
     "output_type": "stream",
     "text": [
      "              precision    recall  f1-score   support\n",
      "\n",
      "     Gunshot       0.63      0.71      0.67        85\n",
      "  Hakkapatas       0.74      0.62      0.68        87\n",
      "   Land mine       0.81      0.99      0.89        74\n",
      "     Poisned       0.72      0.61      0.66        77\n",
      "\n",
      "    accuracy                           0.72       323\n",
      "   macro avg       0.73      0.73      0.72       323\n",
      "weighted avg       0.72      0.72      0.72       323\n",
      "\n"
     ]
    }
   ],
   "source": [
    "print(classification_report(y_test,y_pred,zero_division=0))"
   ]
  },
  {
   "cell_type": "code",
   "execution_count": 94,
   "metadata": {},
   "outputs": [
    {
     "data": {
      "image/png": "[encoded data removed]",
      "text/plain": [
       "<Figure size 640x480 with 2 Axes>"
      ]
     },
     "metadata": {},
     "output_type": "display_data"
    }
   ],
   "source": [
    "from sklearn.metrics import confusion_matrix,ConfusionMatrixDisplay\n",
    "cf_matrix=confusion_matrix(y_test,y_pred)\n",
    "ConfusionMatrixDisplay.from_estimator(model_svc_int, x_test, y_test)\n",
    "plt.xticks(rotation=45) \n",
    "plt.show()"
   ]
  },
  {
   "cell_type": "code",
   "execution_count": 98,
   "metadata": {},
   "outputs": [
    {
     "name": "stdout",
     "output_type": "stream",
     "text": [
      "Best Hyperparameters: {'C': 1, 'degree': 1, 'gamma': 1, 'kernel': 'rbf'}\n"
     ]
    }
   ],
   "source": [
    "from sklearn.model_selection import GridSearchCV\n",
    "\n",
    "grid = {\n",
    "\n",
    "    'C':[0.01,0.1,1,10],\n",
    "\n",
    "    'kernel' : [\"linear\",\"poly\",\"rbf\",\"sigmoid\"],\n",
    "\n",
    "    'degree' : [1,3,5,7],\n",
    "\n",
    "    'gamma' : [0.01,1]\n",
    "\n",
    "}\n",
    "\n",
    "svm  = SVC ()\n",
    "\n",
    "grid_search = GridSearchCV(svm, grid, cv = 5)\n",
    "\n",
    "\n",
    "# Perform the grid search\n",
    "grid_result = grid_search.fit(x_train, y_train)\n",
    "\n",
    "# Get the best hyperparameters\n",
    "best_params = grid_result.best_params_\n",
    "print(\"Best Hyperparameters:\", best_params)\n",
    "\n",
    "# Get the best model\n",
    "best_model_svm_int = grid_result.best_estimator_\n",
    "\n",
    "# Evaluate the best model on the test set\n",
    "y_pred_svm_int = best_model_svm_int.predict(x_test)"
   ]
  },
  {
   "cell_type": "code",
   "execution_count": 99,
   "metadata": {},
   "outputs": [
    {
     "data": {
      "text/plain": [
       "0.7058823529411765"
      ]
     },
     "execution_count": 99,
     "metadata": {},
     "output_type": "execute_result"
    }
   ],
   "source": [
    "accuracy_score(y_test,y_pred_svm_int)"
   ]
  },
  {
   "cell_type": "code",
   "execution_count": 100,
   "metadata": {},
   "outputs": [
    {
     "name": "stdout",
     "output_type": "stream",
     "text": [
      "              precision    recall  f1-score   support\n",
      "\n",
      "     Gunshot       0.61      0.66      0.63        85\n",
      "  Hakkapatas       0.71      0.62      0.66        87\n",
      "   Land mine       0.82      0.99      0.90        74\n",
      "     Poisned       0.68      0.58      0.63        77\n",
      "\n",
      "    accuracy                           0.71       323\n",
      "   macro avg       0.71      0.71      0.71       323\n",
      "weighted avg       0.70      0.71      0.70       323\n",
      "\n"
     ]
    }
   ],
   "source": [
    "print(classification_report(y_test,y_pred_svm_int))"
   ]
  },
  {
   "cell_type": "code",
   "execution_count": 101,
   "metadata": {},
   "outputs": [
    {
     "data": {
      "image/png": "[encoded data removed]",
      "text/plain": [
       "<Figure size 640x480 with 2 Axes>"
      ]
     },
     "metadata": {},
     "output_type": "display_data"
    }
   ],
   "source": [
    "cf_matrix=confusion_matrix(y_test,y_pred_svm_int)\n",
    "ConfusionMatrixDisplay.from_estimator(best_model_svm_int, x_test, y_test)\n",
    "plt.xticks(rotation=45) \n",
    "plt.show()"
   ]
  },
  {
   "cell_type": "code",
   "execution_count": 232,
   "metadata": {},
   "outputs": [],
   "source": [
    "# Create all possible combinations\n",
    "sex_values = intentional_df['Sex'].unique()\n",
    "months = intentional_df['Month'].unique()\n",
    "districts = intentional_df['District'].unique()\n",
    "age_categories = intentional_df['Age Category'].unique()\n",
    "#Main_Cause=df['Main_Cause'].unique()\n",
    "\n",
    "\n",
    "all_combinations = list(product(sex_values, months, districts, age_categories))\n",
    "\n",
    "# Create a DataFrame with all combinations\n",
    "columns = ['Sex', 'Month', 'District', 'Age Category']\n",
    "all_combinations_df = pd.DataFrame(all_combinations, columns=columns)\n"
   ]
  },
  {
   "cell_type": "code",
   "execution_count": 233,
   "metadata": {},
   "outputs": [],
   "source": [
    "selected_variables = pd.get_dummies(all_combinations_df, columns=[ 'District', 'Sex','Age Category','Month'],dtype=int)"
   ]
  },
  {
   "cell_type": "code",
   "execution_count": 234,
   "metadata": {},
   "outputs": [],
   "source": [
    "x=selected_variables"
   ]
  },
  {
   "cell_type": "code",
   "execution_count": 235,
   "metadata": {},
   "outputs": [],
   "source": [
    "columns_to_drop = ['District_Ampara', 'Sex_Unknown','Age Category_Unknown','Month_December']\n",
    "\n",
    "\n",
    "x.drop(columns=columns_to_drop, inplace=True)"
   ]
  },
  {
   "cell_type": "code",
   "execution_count": 236,
   "metadata": {},
   "outputs": [],
   "source": [
    "y_pred_svm = model_svc_int.predict(x)"
   ]
  },
  {
   "cell_type": "code",
   "execution_count": 237,
   "metadata": {},
   "outputs": [],
   "source": [
    "pred=pd.DataFrame(y_pred_svm)"
   ]
  },
  {
   "cell_type": "code",
   "execution_count": 238,
   "metadata": {},
   "outputs": [
    {
     "data": {
      "text/plain": [
       "Hakkapatas    1558\n",
       "Gunshot       1469\n",
       "Poisned        178\n",
       "Land mine       35\n",
       "Name: count, dtype: int64"
      ]
     },
     "execution_count": 238,
     "metadata": {},
     "output_type": "execute_result"
    }
   ],
   "source": [
    "pred.value_counts()"
   ]
  },
  {
   "cell_type": "code",
   "execution_count": 239,
   "metadata": {},
   "outputs": [
    {
     "data": {
      "text/html": [
       "<div>\n",
       "<style scoped>\n",
       "    .dataframe tbody tr th:only-of-type {\n",
       "        vertical-align: middle;\n",
       "    }\n",
       "\n",
       "    .dataframe tbody tr th {\n",
       "        vertical-align: top;\n",
       "    }\n",
       "\n",
       "    .dataframe thead th {\n",
       "        text-align: right;\n",
       "    }\n",
       "</style>\n",
       "<table border=\"1\" class=\"dataframe\">\n",
       "  <thead>\n",
       "    <tr style=\"text-align: right;\">\n",
       "      <th></th>\n",
       "      <th>Sex</th>\n",
       "      <th>Month</th>\n",
       "      <th>District</th>\n",
       "      <th>Age Category</th>\n",
       "      <th>Prediction</th>\n",
       "    </tr>\n",
       "  </thead>\n",
       "  <tbody>\n",
       "    <tr>\n",
       "      <th>0</th>\n",
       "      <td>Female</td>\n",
       "      <td>January</td>\n",
       "      <td>Ampara</td>\n",
       "      <td>Subadults and adults</td>\n",
       "      <td>Gunshot</td>\n",
       "    </tr>\n",
       "    <tr>\n",
       "      <th>1</th>\n",
       "      <td>Female</td>\n",
       "      <td>January</td>\n",
       "      <td>Ampara</td>\n",
       "      <td>Juvenile</td>\n",
       "      <td>Hakkapatas</td>\n",
       "    </tr>\n",
       "    <tr>\n",
       "      <th>2</th>\n",
       "      <td>Female</td>\n",
       "      <td>January</td>\n",
       "      <td>Ampara</td>\n",
       "      <td>Calf</td>\n",
       "      <td>Gunshot</td>\n",
       "    </tr>\n",
       "    <tr>\n",
       "      <th>3</th>\n",
       "      <td>Female</td>\n",
       "      <td>January</td>\n",
       "      <td>Ampara</td>\n",
       "      <td>Unknown</td>\n",
       "      <td>Gunshot</td>\n",
       "    </tr>\n",
       "    <tr>\n",
       "      <th>4</th>\n",
       "      <td>Female</td>\n",
       "      <td>January</td>\n",
       "      <td>Ampara</td>\n",
       "      <td>Infant</td>\n",
       "      <td>Gunshot</td>\n",
       "    </tr>\n",
       "    <tr>\n",
       "      <th>...</th>\n",
       "      <td>...</td>\n",
       "      <td>...</td>\n",
       "      <td>...</td>\n",
       "      <td>...</td>\n",
       "      <td>...</td>\n",
       "    </tr>\n",
       "    <tr>\n",
       "      <th>3235</th>\n",
       "      <td>Unknown</td>\n",
       "      <td>December</td>\n",
       "      <td>Kilinochchi</td>\n",
       "      <td>Subadults and adults</td>\n",
       "      <td>Land mine</td>\n",
       "    </tr>\n",
       "    <tr>\n",
       "      <th>3236</th>\n",
       "      <td>Unknown</td>\n",
       "      <td>December</td>\n",
       "      <td>Kilinochchi</td>\n",
       "      <td>Juvenile</td>\n",
       "      <td>Poisned</td>\n",
       "    </tr>\n",
       "    <tr>\n",
       "      <th>3237</th>\n",
       "      <td>Unknown</td>\n",
       "      <td>December</td>\n",
       "      <td>Kilinochchi</td>\n",
       "      <td>Calf</td>\n",
       "      <td>Hakkapatas</td>\n",
       "    </tr>\n",
       "    <tr>\n",
       "      <th>3238</th>\n",
       "      <td>Unknown</td>\n",
       "      <td>December</td>\n",
       "      <td>Kilinochchi</td>\n",
       "      <td>Unknown</td>\n",
       "      <td>Poisned</td>\n",
       "    </tr>\n",
       "    <tr>\n",
       "      <th>3239</th>\n",
       "      <td>Unknown</td>\n",
       "      <td>December</td>\n",
       "      <td>Kilinochchi</td>\n",
       "      <td>Infant</td>\n",
       "      <td>Gunshot</td>\n",
       "    </tr>\n",
       "  </tbody>\n",
       "</table>\n",
       "<p>3240 rows × 5 columns</p>\n",
       "</div>"
      ],
      "text/plain": [
       "          Sex     Month     District          Age Category  Prediction\n",
       "0      Female   January       Ampara  Subadults and adults     Gunshot\n",
       "1      Female   January       Ampara              Juvenile  Hakkapatas\n",
       "2      Female   January       Ampara                  Calf     Gunshot\n",
       "3      Female   January       Ampara               Unknown     Gunshot\n",
       "4      Female   January       Ampara                Infant     Gunshot\n",
       "...       ...       ...          ...                   ...         ...\n",
       "3235  Unknown  December  Kilinochchi  Subadults and adults   Land mine\n",
       "3236  Unknown  December  Kilinochchi              Juvenile     Poisned\n",
       "3237  Unknown  December  Kilinochchi                  Calf  Hakkapatas\n",
       "3238  Unknown  December  Kilinochchi               Unknown     Poisned\n",
       "3239  Unknown  December  Kilinochchi                Infant     Gunshot\n",
       "\n",
       "[3240 rows x 5 columns]"
      ]
     },
     "execution_count": 239,
     "metadata": {},
     "output_type": "execute_result"
    }
   ],
   "source": [
    "pred_df_int = pd.concat([all_combinations_df, pred], axis=1)\n",
    "pred_df_int.rename(columns={0: 'Prediction'}, inplace=True)\n",
    "pred_df_int"
   ]
  },
  {
   "cell_type": "code",
   "execution_count": 134,
   "metadata": {},
   "outputs": [],
   "source": [
    "output_file_path = r'Intentional_prediction.csv'\n",
    "\n",
    "pred_df_int.to_csv(output_file_path, index=False)"
   ]
  },
  {
   "cell_type": "markdown",
   "metadata": {},
   "source": [
    "## Unintentional"
   ]
  },
  {
   "cell_type": "code",
   "execution_count": 257,
   "metadata": {},
   "outputs": [],
   "source": [
    "unintentional_df=df[df['Main_Cause']=='Unintentional']"
   ]
  },
  {
   "cell_type": "code",
   "execution_count": 241,
   "metadata": {},
   "outputs": [
    {
     "data": {
      "text/plain": [
       "<Axes: xlabel='Cause of Death', ylabel='count'>"
      ]
     },
     "execution_count": 241,
     "metadata": {},
     "output_type": "execute_result"
    },
    {
     "data": {
      "image/png": "[encoded data removed]",
      "text/plain": [
       "<Figure size 1600x1200 with 1 Axes>"
      ]
     },
     "metadata": {},
     "output_type": "display_data"
    }
   ],
   "source": [
    "plt.figure(figsize=(16, 12))\n",
    "plt.xticks(rotation=45) \n",
    "sns.countplot(unintentional_df,x='Cause of Death')\n"
   ]
  },
  {
   "cell_type": "code",
   "execution_count": 258,
   "metadata": {},
   "outputs": [],
   "source": [
    "unintentional_df.loc[unintentional_df['Cause of Death'] == 'Eaten polythene', 'Cause of Death'] = 'Garbage consumption'"
   ]
  },
  {
   "cell_type": "code",
   "execution_count": 259,
   "metadata": {},
   "outputs": [
    {
     "data": {
      "text/plain": [
       "<Axes: xlabel='Cause of Death', ylabel='count'>"
      ]
     },
     "execution_count": 259,
     "metadata": {},
     "output_type": "execute_result"
    },
    {
     "data": {
      "image/png": "[encoded data removed]",
      "text/plain": [
       "<Figure size 1600x1200 with 1 Axes>"
      ]
     },
     "metadata": {},
     "output_type": "display_data"
    }
   ],
   "source": [
    "plt.figure(figsize=(16, 12))\n",
    "plt.xticks(rotation=45) \n",
    "sns.countplot(unintentional_df,x='Cause of Death')"
   ]
  },
  {
   "cell_type": "code",
   "execution_count": 260,
   "metadata": {},
   "outputs": [],
   "source": [
    "selected_variables_unin = unintentional_df[['Cause of Death', 'District', 'Sex',\"Age Category\",\"Month\"]]\n",
    "selected_variables_unin = pd.get_dummies(selected_variables_unin, columns=[ 'District', 'Sex','Age Category','Month'],dtype=int)"
   ]
  },
  {
   "cell_type": "code",
   "execution_count": 261,
   "metadata": {},
   "outputs": [
    {
     "data": {
      "text/html": [
       "<div>\n",
       "<style scoped>\n",
       "    .dataframe tbody tr th:only-of-type {\n",
       "        vertical-align: middle;\n",
       "    }\n",
       "\n",
       "    .dataframe tbody tr th {\n",
       "        vertical-align: top;\n",
       "    }\n",
       "\n",
       "    .dataframe thead th {\n",
       "        text-align: right;\n",
       "    }\n",
       "</style>\n",
       "<table border=\"1\" class=\"dataframe\">\n",
       "  <thead>\n",
       "    <tr style=\"text-align: right;\">\n",
       "      <th></th>\n",
       "      <th>Cause of Death</th>\n",
       "      <th>District_Ampara</th>\n",
       "      <th>District_Anuradhapura</th>\n",
       "      <th>District_Badulla</th>\n",
       "      <th>District_Batticaloa</th>\n",
       "      <th>District_Hambantota</th>\n",
       "      <th>District_Kandy</th>\n",
       "      <th>District_Kilinochchi</th>\n",
       "      <th>District_Kurunegala</th>\n",
       "      <th>District_Mannar</th>\n",
       "      <th>...</th>\n",
       "      <th>Month_December</th>\n",
       "      <th>Month_February</th>\n",
       "      <th>Month_January</th>\n",
       "      <th>Month_July</th>\n",
       "      <th>Month_June</th>\n",
       "      <th>Month_March</th>\n",
       "      <th>Month_May</th>\n",
       "      <th>Month_November</th>\n",
       "      <th>Month_October</th>\n",
       "      <th>Month_September</th>\n",
       "    </tr>\n",
       "  </thead>\n",
       "  <tbody>\n",
       "    <tr>\n",
       "      <th>2</th>\n",
       "      <td>Electrocuted</td>\n",
       "      <td>0</td>\n",
       "      <td>1</td>\n",
       "      <td>0</td>\n",
       "      <td>0</td>\n",
       "      <td>0</td>\n",
       "      <td>0</td>\n",
       "      <td>0</td>\n",
       "      <td>0</td>\n",
       "      <td>0</td>\n",
       "      <td>...</td>\n",
       "      <td>0</td>\n",
       "      <td>0</td>\n",
       "      <td>1</td>\n",
       "      <td>0</td>\n",
       "      <td>0</td>\n",
       "      <td>0</td>\n",
       "      <td>0</td>\n",
       "      <td>0</td>\n",
       "      <td>0</td>\n",
       "      <td>0</td>\n",
       "    </tr>\n",
       "    <tr>\n",
       "      <th>4</th>\n",
       "      <td>Accident</td>\n",
       "      <td>0</td>\n",
       "      <td>0</td>\n",
       "      <td>0</td>\n",
       "      <td>0</td>\n",
       "      <td>0</td>\n",
       "      <td>0</td>\n",
       "      <td>0</td>\n",
       "      <td>1</td>\n",
       "      <td>0</td>\n",
       "      <td>...</td>\n",
       "      <td>0</td>\n",
       "      <td>0</td>\n",
       "      <td>1</td>\n",
       "      <td>0</td>\n",
       "      <td>0</td>\n",
       "      <td>0</td>\n",
       "      <td>0</td>\n",
       "      <td>0</td>\n",
       "      <td>0</td>\n",
       "      <td>0</td>\n",
       "    </tr>\n",
       "    <tr>\n",
       "      <th>11</th>\n",
       "      <td>Electrocuted</td>\n",
       "      <td>0</td>\n",
       "      <td>0</td>\n",
       "      <td>0</td>\n",
       "      <td>0</td>\n",
       "      <td>0</td>\n",
       "      <td>0</td>\n",
       "      <td>0</td>\n",
       "      <td>0</td>\n",
       "      <td>0</td>\n",
       "      <td>...</td>\n",
       "      <td>0</td>\n",
       "      <td>1</td>\n",
       "      <td>0</td>\n",
       "      <td>0</td>\n",
       "      <td>0</td>\n",
       "      <td>0</td>\n",
       "      <td>0</td>\n",
       "      <td>0</td>\n",
       "      <td>0</td>\n",
       "      <td>0</td>\n",
       "    </tr>\n",
       "    <tr>\n",
       "      <th>12</th>\n",
       "      <td>Electrocuted</td>\n",
       "      <td>1</td>\n",
       "      <td>0</td>\n",
       "      <td>0</td>\n",
       "      <td>0</td>\n",
       "      <td>0</td>\n",
       "      <td>0</td>\n",
       "      <td>0</td>\n",
       "      <td>0</td>\n",
       "      <td>0</td>\n",
       "      <td>...</td>\n",
       "      <td>0</td>\n",
       "      <td>1</td>\n",
       "      <td>0</td>\n",
       "      <td>0</td>\n",
       "      <td>0</td>\n",
       "      <td>0</td>\n",
       "      <td>0</td>\n",
       "      <td>0</td>\n",
       "      <td>0</td>\n",
       "      <td>0</td>\n",
       "    </tr>\n",
       "    <tr>\n",
       "      <th>14</th>\n",
       "      <td>Train Accident</td>\n",
       "      <td>0</td>\n",
       "      <td>0</td>\n",
       "      <td>0</td>\n",
       "      <td>0</td>\n",
       "      <td>0</td>\n",
       "      <td>0</td>\n",
       "      <td>0</td>\n",
       "      <td>0</td>\n",
       "      <td>0</td>\n",
       "      <td>...</td>\n",
       "      <td>0</td>\n",
       "      <td>1</td>\n",
       "      <td>0</td>\n",
       "      <td>0</td>\n",
       "      <td>0</td>\n",
       "      <td>0</td>\n",
       "      <td>0</td>\n",
       "      <td>0</td>\n",
       "      <td>0</td>\n",
       "      <td>0</td>\n",
       "    </tr>\n",
       "    <tr>\n",
       "      <th>...</th>\n",
       "      <td>...</td>\n",
       "      <td>...</td>\n",
       "      <td>...</td>\n",
       "      <td>...</td>\n",
       "      <td>...</td>\n",
       "      <td>...</td>\n",
       "      <td>...</td>\n",
       "      <td>...</td>\n",
       "      <td>...</td>\n",
       "      <td>...</td>\n",
       "      <td>...</td>\n",
       "      <td>...</td>\n",
       "      <td>...</td>\n",
       "      <td>...</td>\n",
       "      <td>...</td>\n",
       "      <td>...</td>\n",
       "      <td>...</td>\n",
       "      <td>...</td>\n",
       "      <td>...</td>\n",
       "      <td>...</td>\n",
       "      <td>...</td>\n",
       "    </tr>\n",
       "    <tr>\n",
       "      <th>1867</th>\n",
       "      <td>Electrocuted</td>\n",
       "      <td>0</td>\n",
       "      <td>1</td>\n",
       "      <td>0</td>\n",
       "      <td>0</td>\n",
       "      <td>0</td>\n",
       "      <td>0</td>\n",
       "      <td>0</td>\n",
       "      <td>0</td>\n",
       "      <td>0</td>\n",
       "      <td>...</td>\n",
       "      <td>1</td>\n",
       "      <td>0</td>\n",
       "      <td>0</td>\n",
       "      <td>0</td>\n",
       "      <td>0</td>\n",
       "      <td>0</td>\n",
       "      <td>0</td>\n",
       "      <td>0</td>\n",
       "      <td>0</td>\n",
       "      <td>0</td>\n",
       "    </tr>\n",
       "    <tr>\n",
       "      <th>1873</th>\n",
       "      <td>Electrocuted</td>\n",
       "      <td>0</td>\n",
       "      <td>0</td>\n",
       "      <td>0</td>\n",
       "      <td>0</td>\n",
       "      <td>0</td>\n",
       "      <td>0</td>\n",
       "      <td>0</td>\n",
       "      <td>0</td>\n",
       "      <td>0</td>\n",
       "      <td>...</td>\n",
       "      <td>1</td>\n",
       "      <td>0</td>\n",
       "      <td>0</td>\n",
       "      <td>0</td>\n",
       "      <td>0</td>\n",
       "      <td>0</td>\n",
       "      <td>0</td>\n",
       "      <td>0</td>\n",
       "      <td>0</td>\n",
       "      <td>0</td>\n",
       "    </tr>\n",
       "    <tr>\n",
       "      <th>1882</th>\n",
       "      <td>Train Accident</td>\n",
       "      <td>0</td>\n",
       "      <td>0</td>\n",
       "      <td>0</td>\n",
       "      <td>0</td>\n",
       "      <td>0</td>\n",
       "      <td>0</td>\n",
       "      <td>0</td>\n",
       "      <td>0</td>\n",
       "      <td>0</td>\n",
       "      <td>...</td>\n",
       "      <td>1</td>\n",
       "      <td>0</td>\n",
       "      <td>0</td>\n",
       "      <td>0</td>\n",
       "      <td>0</td>\n",
       "      <td>0</td>\n",
       "      <td>0</td>\n",
       "      <td>0</td>\n",
       "      <td>0</td>\n",
       "      <td>0</td>\n",
       "    </tr>\n",
       "    <tr>\n",
       "      <th>1888</th>\n",
       "      <td>Garbage consumption</td>\n",
       "      <td>1</td>\n",
       "      <td>0</td>\n",
       "      <td>0</td>\n",
       "      <td>0</td>\n",
       "      <td>0</td>\n",
       "      <td>0</td>\n",
       "      <td>0</td>\n",
       "      <td>0</td>\n",
       "      <td>0</td>\n",
       "      <td>...</td>\n",
       "      <td>1</td>\n",
       "      <td>0</td>\n",
       "      <td>0</td>\n",
       "      <td>0</td>\n",
       "      <td>0</td>\n",
       "      <td>0</td>\n",
       "      <td>0</td>\n",
       "      <td>0</td>\n",
       "      <td>0</td>\n",
       "      <td>0</td>\n",
       "    </tr>\n",
       "    <tr>\n",
       "      <th>1892</th>\n",
       "      <td>Electrocuted</td>\n",
       "      <td>0</td>\n",
       "      <td>0</td>\n",
       "      <td>0</td>\n",
       "      <td>0</td>\n",
       "      <td>0</td>\n",
       "      <td>0</td>\n",
       "      <td>0</td>\n",
       "      <td>0</td>\n",
       "      <td>0</td>\n",
       "      <td>...</td>\n",
       "      <td>1</td>\n",
       "      <td>0</td>\n",
       "      <td>0</td>\n",
       "      <td>0</td>\n",
       "      <td>0</td>\n",
       "      <td>0</td>\n",
       "      <td>0</td>\n",
       "      <td>0</td>\n",
       "      <td>0</td>\n",
       "      <td>0</td>\n",
       "    </tr>\n",
       "  </tbody>\n",
       "</table>\n",
       "<p>329 rows × 39 columns</p>\n",
       "</div>"
      ],
      "text/plain": [
       "           Cause of Death  District_Ampara  District_Anuradhapura  \\\n",
       "2            Electrocuted                0                      1   \n",
       "4                Accident                0                      0   \n",
       "11           Electrocuted                0                      0   \n",
       "12           Electrocuted                1                      0   \n",
       "14         Train Accident                0                      0   \n",
       "...                   ...              ...                    ...   \n",
       "1867         Electrocuted                0                      1   \n",
       "1873         Electrocuted                0                      0   \n",
       "1882       Train Accident                0                      0   \n",
       "1888  Garbage consumption                1                      0   \n",
       "1892         Electrocuted                0                      0   \n",
       "\n",
       "      District_Badulla  District_Batticaloa  District_Hambantota  \\\n",
       "2                    0                    0                    0   \n",
       "4                    0                    0                    0   \n",
       "11                   0                    0                    0   \n",
       "12                   0                    0                    0   \n",
       "14                   0                    0                    0   \n",
       "...                ...                  ...                  ...   \n",
       "1867                 0                    0                    0   \n",
       "1873                 0                    0                    0   \n",
       "1882                 0                    0                    0   \n",
       "1888                 0                    0                    0   \n",
       "1892                 0                    0                    0   \n",
       "\n",
       "      District_Kandy  District_Kilinochchi  District_Kurunegala  \\\n",
       "2                  0                     0                    0   \n",
       "4                  0                     0                    1   \n",
       "11                 0                     0                    0   \n",
       "12                 0                     0                    0   \n",
       "14                 0                     0                    0   \n",
       "...              ...                   ...                  ...   \n",
       "1867               0                     0                    0   \n",
       "1873               0                     0                    0   \n",
       "1882               0                     0                    0   \n",
       "1888               0                     0                    0   \n",
       "1892               0                     0                    0   \n",
       "\n",
       "      District_Mannar  ...  Month_December  Month_February  Month_January  \\\n",
       "2                   0  ...               0               0              1   \n",
       "4                   0  ...               0               0              1   \n",
       "11                  0  ...               0               1              0   \n",
       "12                  0  ...               0               1              0   \n",
       "14                  0  ...               0               1              0   \n",
       "...               ...  ...             ...             ...            ...   \n",
       "1867                0  ...               1               0              0   \n",
       "1873                0  ...               1               0              0   \n",
       "1882                0  ...               1               0              0   \n",
       "1888                0  ...               1               0              0   \n",
       "1892                0  ...               1               0              0   \n",
       "\n",
       "      Month_July  Month_June  Month_March  Month_May  Month_November  \\\n",
       "2              0           0            0          0               0   \n",
       "4              0           0            0          0               0   \n",
       "11             0           0            0          0               0   \n",
       "12             0           0            0          0               0   \n",
       "14             0           0            0          0               0   \n",
       "...          ...         ...          ...        ...             ...   \n",
       "1867           0           0            0          0               0   \n",
       "1873           0           0            0          0               0   \n",
       "1882           0           0            0          0               0   \n",
       "1888           0           0            0          0               0   \n",
       "1892           0           0            0          0               0   \n",
       "\n",
       "      Month_October  Month_September  \n",
       "2                 0                0  \n",
       "4                 0                0  \n",
       "11                0                0  \n",
       "12                0                0  \n",
       "14                0                0  \n",
       "...             ...              ...  \n",
       "1867              0                0  \n",
       "1873              0                0  \n",
       "1882              0                0  \n",
       "1888              0                0  \n",
       "1892              0                0  \n",
       "\n",
       "[329 rows x 39 columns]"
      ]
     },
     "execution_count": 261,
     "metadata": {},
     "output_type": "execute_result"
    }
   ],
   "source": [
    "selected_variables_unin"
   ]
  },
  {
   "cell_type": "code",
   "execution_count": 262,
   "metadata": {},
   "outputs": [],
   "source": [
    "columns_to_drop = ['District_Ampara', 'Sex_Unknown','Age Category_Unknown','Month_December']\n",
    "\n",
    "selected_variables_unin.drop(columns=columns_to_drop, inplace=True)"
   ]
  },
  {
   "cell_type": "code",
   "execution_count": 263,
   "metadata": {},
   "outputs": [],
   "source": [
    "x_unint=selected_variables_unin.drop(['Cause of Death'],axis=1)\n",
    "y_unint=selected_variables_unin['Cause of Death']"
   ]
  },
  {
   "cell_type": "code",
   "execution_count": 268,
   "metadata": {},
   "outputs": [],
   "source": [
    "from imblearn.over_sampling import SMOTE\n",
    "sm=SMOTE(random_state=2)\n",
    "x_unint,y_unint=sm.fit_resample(x_unint,y_unint)"
   ]
  },
  {
   "cell_type": "code",
   "execution_count": 269,
   "metadata": {},
   "outputs": [
    {
     "data": {
      "text/plain": [
       "Cause of Death\n",
       "Electrocuted           169\n",
       "Accident               169\n",
       "Train Accident         169\n",
       "Garbage consumption    169\n",
       "Name: count, dtype: int64"
      ]
     },
     "execution_count": 269,
     "metadata": {},
     "output_type": "execute_result"
    }
   ],
   "source": [
    "y_unint.value_counts()"
   ]
  },
  {
   "cell_type": "code",
   "execution_count": 270,
   "metadata": {},
   "outputs": [],
   "source": [
    "x_train, x_test,y_train, y_test = train_test_split(x_unint,y_unint,test_size=0.2,random_state=1234)"
   ]
  },
  {
   "cell_type": "code",
   "execution_count": 271,
   "metadata": {},
   "outputs": [
    {
     "data": {
      "text/plain": [
       "0.7352941176470589"
      ]
     },
     "execution_count": 271,
     "metadata": {},
     "output_type": "execute_result"
    }
   ],
   "source": [
    "model_svc_unint = SVC()\n",
    "model_svc_unint.fit(x_train,y_train)\n",
    "\n",
    "y_pred= model_svc_unint.predict(x_test)\n",
    "accuracy_score(y_test,y_pred)"
   ]
  },
  {
   "cell_type": "code",
   "execution_count": 252,
   "metadata": {},
   "outputs": [
    {
     "name": "stdout",
     "output_type": "stream",
     "text": [
      "                     precision    recall  f1-score   support\n",
      "\n",
      "           Accident       0.52      0.73      0.60        22\n",
      "       Electrocuted       0.74      0.76      0.75        33\n",
      "Garbage consumption       0.79      0.97      0.87        35\n",
      "     Train Accident       0.89      0.54      0.68        46\n",
      "\n",
      "           accuracy                           0.74       136\n",
      "          macro avg       0.73      0.75      0.72       136\n",
      "       weighted avg       0.77      0.74      0.73       136\n",
      "\n"
     ]
    }
   ],
   "source": [
    "print(classification_report(y_test,y_pred,zero_division=0))"
   ]
  },
  {
   "cell_type": "code",
   "execution_count": 253,
   "metadata": {},
   "outputs": [
    {
     "data": {
      "image/png": "[encoded data removed]",
      "text/plain": [
       "<Figure size 640x480 with 2 Axes>"
      ]
     },
     "metadata": {},
     "output_type": "display_data"
    }
   ],
   "source": [
    "from sklearn.metrics import confusion_matrix,ConfusionMatrixDisplay\n",
    "cf_matrix=confusion_matrix(y_test,y_pred)\n",
    "ConfusionMatrixDisplay.from_estimator(model_svc_unint, x_test, y_test)\n",
    "plt.xticks(rotation=45) \n",
    "plt.show()"
   ]
  },
  {
   "cell_type": "code",
   "execution_count": 211,
   "metadata": {},
   "outputs": [
    {
     "name": "stdout",
     "output_type": "stream",
     "text": [
      "Best Hyperparameters: {'C': 10, 'degree': 1, 'gamma': 0.01, 'kernel': 'rbf'}\n"
     ]
    },
    {
     "data": {
      "text/plain": [
       "0.7132352941176471"
      ]
     },
     "execution_count": 211,
     "metadata": {},
     "output_type": "execute_result"
    }
   ],
   "source": [
    "from sklearn.model_selection import GridSearchCV\n",
    "\n",
    "grid = {\n",
    "\n",
    "    'C':[0.01,0.1,1,10],\n",
    "\n",
    "    'kernel' : [\"linear\",\"poly\",\"rbf\",\"sigmoid\"],\n",
    "\n",
    "    'degree' : [1,3,5,7],\n",
    "\n",
    "    'gamma' : [0.01,1]\n",
    "\n",
    "}\n",
    "\n",
    "svm  = SVC ()\n",
    "\n",
    "grid_search = GridSearchCV(svm, grid, cv = 5)\n",
    "\n",
    "\n",
    "# Perform the grid search\n",
    "grid_result = grid_search.fit(x_train, y_train)\n",
    "\n",
    "# Get the best hyperparameters\n",
    "best_params = grid_result.best_params_\n",
    "print(\"Best Hyperparameters:\", best_params)\n",
    "\n",
    "# Get the best model\n",
    "best_model_svm_unint = grid_result.best_estimator_\n",
    "\n",
    "# Evaluate the best model on the test set\n",
    "y_pred_svm_unint = best_model_svm_unint.predict(x_test)\n",
    "accuracy_score(y_test,y_pred_svm_unint)"
   ]
  },
  {
   "cell_type": "code",
   "execution_count": 254,
   "metadata": {},
   "outputs": [],
   "source": [
    "# Create all possible combinations\n",
    "sex_values = unintentional_df['Sex'].unique()\n",
    "months = unintentional_df['Month'].unique()\n",
    "districts = unintentional_df['District'].unique()\n",
    "age_categories = unintentional_df['Age Category'].unique()\n",
    "#Main_Cause=df['Main_Cause'].unique()\n",
    "\n",
    "\n",
    "all_combinations = list(product(sex_values, months, districts, age_categories))\n",
    "\n",
    "# Create a DataFrame with all combinations\n",
    "columns = ['Sex', 'Month', 'District', 'Age Category']\n",
    "all_combinations_df = pd.DataFrame(all_combinations, columns=columns)\n",
    "selected_variables = pd.get_dummies(all_combinations_df, columns=[ 'District', 'Sex','Age Category','Month'],dtype=int)\n",
    "x=selected_variables\n",
    "columns_to_drop = ['District_Ampara', 'Sex_Unknown','Age Category_Unknown','Month_December']\n",
    "\n",
    "\n",
    "x.drop(columns=columns_to_drop, inplace=True)"
   ]
  },
  {
   "cell_type": "code",
   "execution_count": 272,
   "metadata": {},
   "outputs": [
    {
     "data": {
      "text/plain": [
       "Accident               2373\n",
       "Train Accident          503\n",
       "Electrocuted            358\n",
       "Garbage consumption       6\n",
       "Name: count, dtype: int64"
      ]
     },
     "execution_count": 272,
     "metadata": {},
     "output_type": "execute_result"
    }
   ],
   "source": [
    "y_pred_svm_unint = model_svc_unint.predict(x)\n",
    "pred=pd.DataFrame(y_pred_svm_unint)\n",
    "pred.value_counts()"
   ]
  },
  {
   "cell_type": "code",
   "execution_count": 273,
   "metadata": {},
   "outputs": [
    {
     "data": {
      "text/html": [
       "<div>\n",
       "<style scoped>\n",
       "    .dataframe tbody tr th:only-of-type {\n",
       "        vertical-align: middle;\n",
       "    }\n",
       "\n",
       "    .dataframe tbody tr th {\n",
       "        vertical-align: top;\n",
       "    }\n",
       "\n",
       "    .dataframe thead th {\n",
       "        text-align: right;\n",
       "    }\n",
       "</style>\n",
       "<table border=\"1\" class=\"dataframe\">\n",
       "  <thead>\n",
       "    <tr style=\"text-align: right;\">\n",
       "      <th></th>\n",
       "      <th>Sex</th>\n",
       "      <th>Month</th>\n",
       "      <th>District</th>\n",
       "      <th>Age Category</th>\n",
       "      <th>Prediction</th>\n",
       "    </tr>\n",
       "  </thead>\n",
       "  <tbody>\n",
       "    <tr>\n",
       "      <th>0</th>\n",
       "      <td>Male</td>\n",
       "      <td>January</td>\n",
       "      <td>Anuradhapura</td>\n",
       "      <td>Subadults and adults</td>\n",
       "      <td>Electrocuted</td>\n",
       "    </tr>\n",
       "    <tr>\n",
       "      <th>1</th>\n",
       "      <td>Male</td>\n",
       "      <td>January</td>\n",
       "      <td>Anuradhapura</td>\n",
       "      <td>Juvenile</td>\n",
       "      <td>Accident</td>\n",
       "    </tr>\n",
       "    <tr>\n",
       "      <th>2</th>\n",
       "      <td>Male</td>\n",
       "      <td>January</td>\n",
       "      <td>Anuradhapura</td>\n",
       "      <td>Calf</td>\n",
       "      <td>Accident</td>\n",
       "    </tr>\n",
       "    <tr>\n",
       "      <th>3</th>\n",
       "      <td>Male</td>\n",
       "      <td>January</td>\n",
       "      <td>Anuradhapura</td>\n",
       "      <td>Unknown</td>\n",
       "      <td>Accident</td>\n",
       "    </tr>\n",
       "    <tr>\n",
       "      <th>4</th>\n",
       "      <td>Male</td>\n",
       "      <td>January</td>\n",
       "      <td>Anuradhapura</td>\n",
       "      <td>Infant</td>\n",
       "      <td>Accident</td>\n",
       "    </tr>\n",
       "    <tr>\n",
       "      <th>...</th>\n",
       "      <td>...</td>\n",
       "      <td>...</td>\n",
       "      <td>...</td>\n",
       "      <td>...</td>\n",
       "      <td>...</td>\n",
       "    </tr>\n",
       "    <tr>\n",
       "      <th>3235</th>\n",
       "      <td>Unknown</td>\n",
       "      <td>December</td>\n",
       "      <td>Mullaitivu</td>\n",
       "      <td>Subadults and adults</td>\n",
       "      <td>Accident</td>\n",
       "    </tr>\n",
       "    <tr>\n",
       "      <th>3236</th>\n",
       "      <td>Unknown</td>\n",
       "      <td>December</td>\n",
       "      <td>Mullaitivu</td>\n",
       "      <td>Juvenile</td>\n",
       "      <td>Accident</td>\n",
       "    </tr>\n",
       "    <tr>\n",
       "      <th>3237</th>\n",
       "      <td>Unknown</td>\n",
       "      <td>December</td>\n",
       "      <td>Mullaitivu</td>\n",
       "      <td>Calf</td>\n",
       "      <td>Accident</td>\n",
       "    </tr>\n",
       "    <tr>\n",
       "      <th>3238</th>\n",
       "      <td>Unknown</td>\n",
       "      <td>December</td>\n",
       "      <td>Mullaitivu</td>\n",
       "      <td>Unknown</td>\n",
       "      <td>Accident</td>\n",
       "    </tr>\n",
       "    <tr>\n",
       "      <th>3239</th>\n",
       "      <td>Unknown</td>\n",
       "      <td>December</td>\n",
       "      <td>Mullaitivu</td>\n",
       "      <td>Infant</td>\n",
       "      <td>Accident</td>\n",
       "    </tr>\n",
       "  </tbody>\n",
       "</table>\n",
       "<p>3240 rows × 5 columns</p>\n",
       "</div>"
      ],
      "text/plain": [
       "          Sex     Month      District          Age Category    Prediction\n",
       "0        Male   January  Anuradhapura  Subadults and adults  Electrocuted\n",
       "1        Male   January  Anuradhapura              Juvenile      Accident\n",
       "2        Male   January  Anuradhapura                  Calf      Accident\n",
       "3        Male   January  Anuradhapura               Unknown      Accident\n",
       "4        Male   January  Anuradhapura                Infant      Accident\n",
       "...       ...       ...           ...                   ...           ...\n",
       "3235  Unknown  December    Mullaitivu  Subadults and adults      Accident\n",
       "3236  Unknown  December    Mullaitivu              Juvenile      Accident\n",
       "3237  Unknown  December    Mullaitivu                  Calf      Accident\n",
       "3238  Unknown  December    Mullaitivu               Unknown      Accident\n",
       "3239  Unknown  December    Mullaitivu                Infant      Accident\n",
       "\n",
       "[3240 rows x 5 columns]"
      ]
     },
     "execution_count": 273,
     "metadata": {},
     "output_type": "execute_result"
    }
   ],
   "source": [
    "pred_df_unint = pd.concat([all_combinations_df, pred], axis=1)\n",
    "pred_df_unint.rename(columns={0: 'Prediction'}, inplace=True)\n",
    "pred_df_unint"
   ]
  },
  {
   "cell_type": "code",
   "execution_count": 274,
   "metadata": {},
   "outputs": [],
   "source": [
    "output_file_path = r'Unintentional_prediction.csv'\n",
    "\n",
    "pred_df_unint.to_csv(output_file_path, index=False)"
   ]
  },
  {
   "cell_type": "markdown",
   "metadata": {},
   "source": [
    "## Natural"
   ]
  },
  {
   "cell_type": "code",
   "execution_count": 275,
   "metadata": {},
   "outputs": [],
   "source": [
    "natural_df=df[df['Main_Cause']=='Natural']"
   ]
  },
  {
   "cell_type": "code",
   "execution_count": 276,
   "metadata": {},
   "outputs": [
    {
     "data": {
      "text/plain": [
       "<Axes: xlabel='Cause of Death', ylabel='count'>"
      ]
     },
     "execution_count": 276,
     "metadata": {},
     "output_type": "execute_result"
    },
    {
     "data": {
      "image/png": "[encoded data removed]",
      "text/plain": [
       "<Figure size 1600x1200 with 1 Axes>"
      ]
     },
     "metadata": {},
     "output_type": "display_data"
    }
   ],
   "source": [
    "plt.figure(figsize=(16, 12))\n",
    "plt.xticks(rotation=45) \n",
    "sns.countplot(natural_df,x='Cause of Death')"
   ]
  },
  {
   "cell_type": "code",
   "execution_count": 277,
   "metadata": {},
   "outputs": [],
   "source": [
    "selected_variables_nat = natural_df[['Cause of Death', 'District', 'Sex',\"Age Category\",\"Month\"]]\n",
    "selected_variables_nat = pd.get_dummies(selected_variables_nat, columns=[ 'District', 'Sex','Age Category','Month'],dtype=int)"
   ]
  },
  {
   "cell_type": "code",
   "execution_count": 278,
   "metadata": {},
   "outputs": [],
   "source": [
    "columns_to_drop = ['District_Ampara', 'Sex_Unknown','Age Category_Unknown','Month_December']\n",
    "\n",
    "selected_variables_nat.drop(columns=columns_to_drop, inplace=True)"
   ]
  },
  {
   "cell_type": "code",
   "execution_count": 279,
   "metadata": {},
   "outputs": [],
   "source": [
    "x_nat=selected_variables_nat.drop(['Cause of Death'],axis=1)\n",
    "y_nat=selected_variables_nat['Cause of Death']"
   ]
  },
  {
   "cell_type": "code",
   "execution_count": 281,
   "metadata": {},
   "outputs": [],
   "source": [
    "x_train, x_test,y_train, y_test = train_test_split(x_nat,y_nat,test_size=0.2,random_state=1234)"
   ]
  },
  {
   "cell_type": "code",
   "execution_count": 282,
   "metadata": {},
   "outputs": [
    {
     "data": {
      "text/plain": [
       "0.38636363636363635"
      ]
     },
     "execution_count": 282,
     "metadata": {},
     "output_type": "execute_result"
    }
   ],
   "source": [
    "model_svc_nat = SVC()\n",
    "model_svc_nat.fit(x_train,y_train)\n",
    "\n",
    "y_pred= model_svc_nat.predict(x_test)\n",
    "accuracy_score(y_test,y_pred)"
   ]
  },
  {
   "cell_type": "code",
   "execution_count": 283,
   "metadata": {},
   "outputs": [
    {
     "name": "stdout",
     "output_type": "stream",
     "text": [
      "                       precision    recall  f1-score   support\n",
      "\n",
      "Attack by an elephant       0.00      0.00      0.00         3\n",
      "              Disease       0.00      0.00      0.00         3\n",
      "              Drowned       0.00      0.00      0.00         1\n",
      "     Fallen into well       0.00      0.00      0.00         2\n",
      "                Flood       1.00      1.00      1.00         1\n",
      "              Injured       0.20      0.30      0.24        10\n",
      "            Lightning       0.00      0.00      0.00         2\n",
      "          Liver floot       0.00      0.00      0.00         1\n",
      "              Natural       0.48      0.72      0.58        18\n",
      "           Septicemia       0.00      0.00      0.00         3\n",
      "\n",
      "             accuracy                           0.39        44\n",
      "            macro avg       0.17      0.20      0.18        44\n",
      "         weighted avg       0.27      0.39      0.31        44\n",
      "\n"
     ]
    }
   ],
   "source": [
    "print(classification_report(y_test,y_pred,zero_division=0))"
   ]
  },
  {
   "cell_type": "code",
   "execution_count": 285,
   "metadata": {},
   "outputs": [
    {
     "data": {
      "image/png": "[encoded data removed]",
      "text/plain": [
       "<Figure size 640x480 with 2 Axes>"
      ]
     },
     "metadata": {},
     "output_type": "display_data"
    }
   ],
   "source": [
    "from sklearn.metrics import confusion_matrix,ConfusionMatrixDisplay\n",
    "cf_matrix=confusion_matrix(y_test,y_pred)\n",
    "ConfusionMatrixDisplay.from_estimator(model_svc_nat, x_test, y_test)\n",
    "plt.xticks(rotation=45) \n",
    "plt.show()"
   ]
  },
  {
   "cell_type": "code",
   "execution_count": null,
   "metadata": {},
   "outputs": [],
   "source": []
  }
 ],
 "metadata": {
  "kernelspec": {
   "display_name": "Python 3",
   "language": "python",
   "name": "python3"
  },
  "language_info": {
   "codemirror_mode": {
    "name": "ipython",
    "version": 3
   },
   "file_extension": ".py",
   "mimetype": "text/x-python",
   "name": "python",
   "nbconvert_exporter": "python",
   "pygments_lexer": "ipython3",
   "version": "3.11.3"
  }
 },
 "nbformat": 4,
 "nbformat_minor": 2
}
